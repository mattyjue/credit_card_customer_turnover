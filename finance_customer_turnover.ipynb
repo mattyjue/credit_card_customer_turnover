{
 "cells": [
  {
   "cell_type": "markdown",
   "metadata": {},
   "source": [
    "Dataset can be found at https://www.kaggle.com/cfpb/us-consumer-finance-complaints"
   ]
  },
  {
   "cell_type": "code",
   "execution_count": 1,
   "metadata": {},
   "outputs": [
    {
     "data": {
      "application/javascript": [
       "\n",
       "            setTimeout(function() {\n",
       "                var nbb_cell_id = 1;\n",
       "                var nbb_unformatted_code = \"%reload_ext nb_black\";\n",
       "                var nbb_formatted_code = \"%reload_ext nb_black\";\n",
       "                var nbb_cells = Jupyter.notebook.get_cells();\n",
       "                for (var i = 0; i < nbb_cells.length; ++i) {\n",
       "                    if (nbb_cells[i].input_prompt_number == nbb_cell_id) {\n",
       "                        if (nbb_cells[i].get_text() == nbb_unformatted_code) {\n",
       "                             nbb_cells[i].set_text(nbb_formatted_code);\n",
       "                        }\n",
       "                        break;\n",
       "                    }\n",
       "                }\n",
       "            }, 500);\n",
       "            "
      ],
      "text/plain": [
       "<IPython.core.display.Javascript object>"
      ]
     },
     "metadata": {},
     "output_type": "display_data"
    }
   ],
   "source": [
    "%reload_ext nb_black"
   ]
  },
  {
   "cell_type": "code",
   "execution_count": 23,
   "metadata": {},
   "outputs": [
    {
     "data": {
      "application/javascript": [
       "\n",
       "            setTimeout(function() {\n",
       "                var nbb_cell_id = 23;\n",
       "                var nbb_unformatted_code = \"import pandas as pd\\nimport numpy as np\\n\\nfrom sklearn.preprocessing import StandardScaler\\n\\nfrom sklearn.cluster import DBSCAN, KMeans, AgglomerativeClustering\\nfrom xgboost import XGBClassifier\\nfrom sklearn.model_selection import train_test_split, GridSearchCV, cross_val_score\\nfrom category_encoders import LeaveOneOutEncoder, OneHotEncoder\\nfrom sklearn.metrics import (\\n    classification_report,\\n    confusion_matrix,\\n    f1_score,\\n    make_scorer,\\n)\\n\\nfrom sklearn.compose import ColumnTransformer\\nfrom sklearn.pipeline import Pipeline\\nfrom imblearn.under_sampling import RandomUnderSampler\\nfrom imblearn.over_sampling import SMOTE\\nfrom sklearn.linear_model import LogisticRegression\\nfrom imblearn.pipeline import make_pipeline, Pipeline\\nfrom sklearn.ensemble import RandomForestClassifier\\nfrom sklearn.neighbors import KNeighborsClassifier\\nfrom sklearn.decomposition import PCA\\n\\nimport seaborn as sns\\nimport matplotlib.pyplot as plt\\nimport gower\\n\\n%matplotlib inline\";\n",
       "                var nbb_formatted_code = \"import pandas as pd\\nimport numpy as np\\n\\nfrom sklearn.preprocessing import StandardScaler\\n\\nfrom sklearn.cluster import DBSCAN, KMeans, AgglomerativeClustering\\nfrom xgboost import XGBClassifier\\nfrom sklearn.model_selection import train_test_split, GridSearchCV, cross_val_score\\nfrom category_encoders import LeaveOneOutEncoder, OneHotEncoder\\nfrom sklearn.metrics import (\\n    classification_report,\\n    confusion_matrix,\\n    f1_score,\\n    make_scorer,\\n)\\n\\nfrom sklearn.compose import ColumnTransformer\\nfrom sklearn.pipeline import Pipeline\\nfrom imblearn.under_sampling import RandomUnderSampler\\nfrom imblearn.over_sampling import SMOTE\\nfrom sklearn.linear_model import LogisticRegression\\nfrom imblearn.pipeline import make_pipeline, Pipeline\\nfrom sklearn.ensemble import RandomForestClassifier\\nfrom sklearn.neighbors import KNeighborsClassifier\\nfrom sklearn.decomposition import PCA\\n\\nimport seaborn as sns\\nimport matplotlib.pyplot as plt\\nimport gower\\n\\n%matplotlib inline\";\n",
       "                var nbb_cells = Jupyter.notebook.get_cells();\n",
       "                for (var i = 0; i < nbb_cells.length; ++i) {\n",
       "                    if (nbb_cells[i].input_prompt_number == nbb_cell_id) {\n",
       "                        if (nbb_cells[i].get_text() == nbb_unformatted_code) {\n",
       "                             nbb_cells[i].set_text(nbb_formatted_code);\n",
       "                        }\n",
       "                        break;\n",
       "                    }\n",
       "                }\n",
       "            }, 500);\n",
       "            "
      ],
      "text/plain": [
       "<IPython.core.display.Javascript object>"
      ]
     },
     "metadata": {},
     "output_type": "display_data"
    }
   ],
   "source": [
    "import pandas as pd\n",
    "import numpy as np\n",
    "\n",
    "from sklearn.preprocessing import StandardScaler\n",
    "\n",
    "from sklearn.cluster import DBSCAN, KMeans, AgglomerativeClustering\n",
    "from xgboost import XGBClassifier\n",
    "from sklearn.model_selection import train_test_split, GridSearchCV, cross_val_score\n",
    "from category_encoders import LeaveOneOutEncoder, OneHotEncoder\n",
    "from sklearn.metrics import (\n",
    "    classification_report,\n",
    "    confusion_matrix,\n",
    "    f1_score,\n",
    "    make_scorer,\n",
    ")\n",
    "\n",
    "from sklearn.compose import ColumnTransformer\n",
    "from sklearn.pipeline import Pipeline\n",
    "from imblearn.under_sampling import RandomUnderSampler\n",
    "from imblearn.over_sampling import SMOTE\n",
    "from sklearn.linear_model import LogisticRegression\n",
    "from imblearn.pipeline import make_pipeline, Pipeline\n",
    "from sklearn.ensemble import RandomForestClassifier\n",
    "from sklearn.neighbors import KNeighborsClassifier\n",
    "from sklearn.decomposition import PCA\n",
    "\n",
    "import seaborn as sns\n",
    "import matplotlib.pyplot as plt\n",
    "import gower\n",
    "\n",
    "%matplotlib inline"
   ]
  },
  {
   "cell_type": "code",
   "execution_count": 3,
   "metadata": {},
   "outputs": [
    {
     "data": {
      "application/javascript": [
       "\n",
       "            setTimeout(function() {\n",
       "                var nbb_cell_id = 3;\n",
       "                var nbb_unformatted_code = \"df = pd.read_csv(\\\"BankChurners.csv\\\")\";\n",
       "                var nbb_formatted_code = \"df = pd.read_csv(\\\"BankChurners.csv\\\")\";\n",
       "                var nbb_cells = Jupyter.notebook.get_cells();\n",
       "                for (var i = 0; i < nbb_cells.length; ++i) {\n",
       "                    if (nbb_cells[i].input_prompt_number == nbb_cell_id) {\n",
       "                        if (nbb_cells[i].get_text() == nbb_unformatted_code) {\n",
       "                             nbb_cells[i].set_text(nbb_formatted_code);\n",
       "                        }\n",
       "                        break;\n",
       "                    }\n",
       "                }\n",
       "            }, 500);\n",
       "            "
      ],
      "text/plain": [
       "<IPython.core.display.Javascript object>"
      ]
     },
     "metadata": {},
     "output_type": "display_data"
    }
   ],
   "source": [
    "df = pd.read_csv(\"BankChurners.csv\")"
   ]
  },
  {
   "cell_type": "markdown",
   "metadata": {},
   "source": [
    "# Explore the data"
   ]
  },
  {
   "cell_type": "code",
   "execution_count": 4,
   "metadata": {},
   "outputs": [
    {
     "name": "stdout",
     "output_type": "stream",
     "text": [
      "(10127, 23)\n"
     ]
    },
    {
     "data": {
      "text/html": [
       "<div>\n",
       "<style scoped>\n",
       "    .dataframe tbody tr th:only-of-type {\n",
       "        vertical-align: middle;\n",
       "    }\n",
       "\n",
       "    .dataframe tbody tr th {\n",
       "        vertical-align: top;\n",
       "    }\n",
       "\n",
       "    .dataframe thead th {\n",
       "        text-align: right;\n",
       "    }\n",
       "</style>\n",
       "<table border=\"1\" class=\"dataframe\">\n",
       "  <thead>\n",
       "    <tr style=\"text-align: right;\">\n",
       "      <th></th>\n",
       "      <th>CLIENTNUM</th>\n",
       "      <th>Attrition_Flag</th>\n",
       "      <th>Customer_Age</th>\n",
       "      <th>Gender</th>\n",
       "      <th>Dependent_count</th>\n",
       "      <th>Education_Level</th>\n",
       "      <th>Marital_Status</th>\n",
       "      <th>Income_Category</th>\n",
       "      <th>Card_Category</th>\n",
       "      <th>Months_on_book</th>\n",
       "      <th>...</th>\n",
       "      <th>Credit_Limit</th>\n",
       "      <th>Total_Revolving_Bal</th>\n",
       "      <th>Avg_Open_To_Buy</th>\n",
       "      <th>Total_Amt_Chng_Q4_Q1</th>\n",
       "      <th>Total_Trans_Amt</th>\n",
       "      <th>Total_Trans_Ct</th>\n",
       "      <th>Total_Ct_Chng_Q4_Q1</th>\n",
       "      <th>Avg_Utilization_Ratio</th>\n",
       "      <th>Naive_Bayes_Classifier_Attrition_Flag_Card_Category_Contacts_Count_12_mon_Dependent_count_Education_Level_Months_Inactive_12_mon_1</th>\n",
       "      <th>Naive_Bayes_Classifier_Attrition_Flag_Card_Category_Contacts_Count_12_mon_Dependent_count_Education_Level_Months_Inactive_12_mon_2</th>\n",
       "    </tr>\n",
       "  </thead>\n",
       "  <tbody>\n",
       "    <tr>\n",
       "      <th>0</th>\n",
       "      <td>768805383</td>\n",
       "      <td>Existing Customer</td>\n",
       "      <td>45</td>\n",
       "      <td>M</td>\n",
       "      <td>3</td>\n",
       "      <td>High School</td>\n",
       "      <td>Married</td>\n",
       "      <td>$60K - $80K</td>\n",
       "      <td>Blue</td>\n",
       "      <td>39</td>\n",
       "      <td>...</td>\n",
       "      <td>12691.0</td>\n",
       "      <td>777</td>\n",
       "      <td>11914.0</td>\n",
       "      <td>1.335</td>\n",
       "      <td>1144</td>\n",
       "      <td>42</td>\n",
       "      <td>1.625</td>\n",
       "      <td>0.061</td>\n",
       "      <td>0.000093</td>\n",
       "      <td>0.99991</td>\n",
       "    </tr>\n",
       "    <tr>\n",
       "      <th>1</th>\n",
       "      <td>818770008</td>\n",
       "      <td>Existing Customer</td>\n",
       "      <td>49</td>\n",
       "      <td>F</td>\n",
       "      <td>5</td>\n",
       "      <td>Graduate</td>\n",
       "      <td>Single</td>\n",
       "      <td>Less than $40K</td>\n",
       "      <td>Blue</td>\n",
       "      <td>44</td>\n",
       "      <td>...</td>\n",
       "      <td>8256.0</td>\n",
       "      <td>864</td>\n",
       "      <td>7392.0</td>\n",
       "      <td>1.541</td>\n",
       "      <td>1291</td>\n",
       "      <td>33</td>\n",
       "      <td>3.714</td>\n",
       "      <td>0.105</td>\n",
       "      <td>0.000057</td>\n",
       "      <td>0.99994</td>\n",
       "    </tr>\n",
       "    <tr>\n",
       "      <th>2</th>\n",
       "      <td>713982108</td>\n",
       "      <td>Existing Customer</td>\n",
       "      <td>51</td>\n",
       "      <td>M</td>\n",
       "      <td>3</td>\n",
       "      <td>Graduate</td>\n",
       "      <td>Married</td>\n",
       "      <td>$80K - $120K</td>\n",
       "      <td>Blue</td>\n",
       "      <td>36</td>\n",
       "      <td>...</td>\n",
       "      <td>3418.0</td>\n",
       "      <td>0</td>\n",
       "      <td>3418.0</td>\n",
       "      <td>2.594</td>\n",
       "      <td>1887</td>\n",
       "      <td>20</td>\n",
       "      <td>2.333</td>\n",
       "      <td>0.000</td>\n",
       "      <td>0.000021</td>\n",
       "      <td>0.99998</td>\n",
       "    </tr>\n",
       "    <tr>\n",
       "      <th>3</th>\n",
       "      <td>769911858</td>\n",
       "      <td>Existing Customer</td>\n",
       "      <td>40</td>\n",
       "      <td>F</td>\n",
       "      <td>4</td>\n",
       "      <td>High School</td>\n",
       "      <td>Unknown</td>\n",
       "      <td>Less than $40K</td>\n",
       "      <td>Blue</td>\n",
       "      <td>34</td>\n",
       "      <td>...</td>\n",
       "      <td>3313.0</td>\n",
       "      <td>2517</td>\n",
       "      <td>796.0</td>\n",
       "      <td>1.405</td>\n",
       "      <td>1171</td>\n",
       "      <td>20</td>\n",
       "      <td>2.333</td>\n",
       "      <td>0.760</td>\n",
       "      <td>0.000134</td>\n",
       "      <td>0.99987</td>\n",
       "    </tr>\n",
       "    <tr>\n",
       "      <th>4</th>\n",
       "      <td>709106358</td>\n",
       "      <td>Existing Customer</td>\n",
       "      <td>40</td>\n",
       "      <td>M</td>\n",
       "      <td>3</td>\n",
       "      <td>Uneducated</td>\n",
       "      <td>Married</td>\n",
       "      <td>$60K - $80K</td>\n",
       "      <td>Blue</td>\n",
       "      <td>21</td>\n",
       "      <td>...</td>\n",
       "      <td>4716.0</td>\n",
       "      <td>0</td>\n",
       "      <td>4716.0</td>\n",
       "      <td>2.175</td>\n",
       "      <td>816</td>\n",
       "      <td>28</td>\n",
       "      <td>2.500</td>\n",
       "      <td>0.000</td>\n",
       "      <td>0.000022</td>\n",
       "      <td>0.99998</td>\n",
       "    </tr>\n",
       "  </tbody>\n",
       "</table>\n",
       "<p>5 rows × 23 columns</p>\n",
       "</div>"
      ],
      "text/plain": [
       "   CLIENTNUM     Attrition_Flag  Customer_Age Gender  Dependent_count  \\\n",
       "0  768805383  Existing Customer            45      M                3   \n",
       "1  818770008  Existing Customer            49      F                5   \n",
       "2  713982108  Existing Customer            51      M                3   \n",
       "3  769911858  Existing Customer            40      F                4   \n",
       "4  709106358  Existing Customer            40      M                3   \n",
       "\n",
       "  Education_Level Marital_Status Income_Category Card_Category  \\\n",
       "0     High School        Married     $60K - $80K          Blue   \n",
       "1        Graduate         Single  Less than $40K          Blue   \n",
       "2        Graduate        Married    $80K - $120K          Blue   \n",
       "3     High School        Unknown  Less than $40K          Blue   \n",
       "4      Uneducated        Married     $60K - $80K          Blue   \n",
       "\n",
       "   Months_on_book  ...  Credit_Limit  Total_Revolving_Bal  Avg_Open_To_Buy  \\\n",
       "0              39  ...       12691.0                  777          11914.0   \n",
       "1              44  ...        8256.0                  864           7392.0   \n",
       "2              36  ...        3418.0                    0           3418.0   \n",
       "3              34  ...        3313.0                 2517            796.0   \n",
       "4              21  ...        4716.0                    0           4716.0   \n",
       "\n",
       "   Total_Amt_Chng_Q4_Q1  Total_Trans_Amt  Total_Trans_Ct  Total_Ct_Chng_Q4_Q1  \\\n",
       "0                 1.335             1144              42                1.625   \n",
       "1                 1.541             1291              33                3.714   \n",
       "2                 2.594             1887              20                2.333   \n",
       "3                 1.405             1171              20                2.333   \n",
       "4                 2.175              816              28                2.500   \n",
       "\n",
       "   Avg_Utilization_Ratio  \\\n",
       "0                  0.061   \n",
       "1                  0.105   \n",
       "2                  0.000   \n",
       "3                  0.760   \n",
       "4                  0.000   \n",
       "\n",
       "   Naive_Bayes_Classifier_Attrition_Flag_Card_Category_Contacts_Count_12_mon_Dependent_count_Education_Level_Months_Inactive_12_mon_1  \\\n",
       "0                                           0.000093                                                                                    \n",
       "1                                           0.000057                                                                                    \n",
       "2                                           0.000021                                                                                    \n",
       "3                                           0.000134                                                                                    \n",
       "4                                           0.000022                                                                                    \n",
       "\n",
       "   Naive_Bayes_Classifier_Attrition_Flag_Card_Category_Contacts_Count_12_mon_Dependent_count_Education_Level_Months_Inactive_12_mon_2  \n",
       "0                                            0.99991                                                                                   \n",
       "1                                            0.99994                                                                                   \n",
       "2                                            0.99998                                                                                   \n",
       "3                                            0.99987                                                                                   \n",
       "4                                            0.99998                                                                                   \n",
       "\n",
       "[5 rows x 23 columns]"
      ]
     },
     "execution_count": 4,
     "metadata": {},
     "output_type": "execute_result"
    },
    {
     "data": {
      "application/javascript": [
       "\n",
       "            setTimeout(function() {\n",
       "                var nbb_cell_id = 4;\n",
       "                var nbb_unformatted_code = \"print(df.shape)\\ndf.head()\";\n",
       "                var nbb_formatted_code = \"print(df.shape)\\ndf.head()\";\n",
       "                var nbb_cells = Jupyter.notebook.get_cells();\n",
       "                for (var i = 0; i < nbb_cells.length; ++i) {\n",
       "                    if (nbb_cells[i].input_prompt_number == nbb_cell_id) {\n",
       "                        if (nbb_cells[i].get_text() == nbb_unformatted_code) {\n",
       "                             nbb_cells[i].set_text(nbb_formatted_code);\n",
       "                        }\n",
       "                        break;\n",
       "                    }\n",
       "                }\n",
       "            }, 500);\n",
       "            "
      ],
      "text/plain": [
       "<IPython.core.display.Javascript object>"
      ]
     },
     "metadata": {},
     "output_type": "display_data"
    }
   ],
   "source": [
    "print(df.shape)\n",
    "df.head()"
   ]
  },
  {
   "cell_type": "code",
   "execution_count": 5,
   "metadata": {},
   "outputs": [
    {
     "data": {
      "application/javascript": [
       "\n",
       "            setTimeout(function() {\n",
       "                var nbb_cell_id = 5;\n",
       "                var nbb_unformatted_code = \"df = df.drop(\\n    columns=[\\n        \\\"Naive_Bayes_Classifier_Attrition_Flag_Card_Category_Contacts_Count_12_mon_Dependent_count_Education_Level_Months_Inactive_12_mon_1\\\",\\n        \\\"Naive_Bayes_Classifier_Attrition_Flag_Card_Category_Contacts_Count_12_mon_Dependent_count_Education_Level_Months_Inactive_12_mon_2\\\",\\n        \\\"CLIENTNUM\\\",\\n    ],\\n    errors=\\\"ignore\\\",\\n)\";\n",
       "                var nbb_formatted_code = \"df = df.drop(\\n    columns=[\\n        \\\"Naive_Bayes_Classifier_Attrition_Flag_Card_Category_Contacts_Count_12_mon_Dependent_count_Education_Level_Months_Inactive_12_mon_1\\\",\\n        \\\"Naive_Bayes_Classifier_Attrition_Flag_Card_Category_Contacts_Count_12_mon_Dependent_count_Education_Level_Months_Inactive_12_mon_2\\\",\\n        \\\"CLIENTNUM\\\",\\n    ],\\n    errors=\\\"ignore\\\",\\n)\";\n",
       "                var nbb_cells = Jupyter.notebook.get_cells();\n",
       "                for (var i = 0; i < nbb_cells.length; ++i) {\n",
       "                    if (nbb_cells[i].input_prompt_number == nbb_cell_id) {\n",
       "                        if (nbb_cells[i].get_text() == nbb_unformatted_code) {\n",
       "                             nbb_cells[i].set_text(nbb_formatted_code);\n",
       "                        }\n",
       "                        break;\n",
       "                    }\n",
       "                }\n",
       "            }, 500);\n",
       "            "
      ],
      "text/plain": [
       "<IPython.core.display.Javascript object>"
      ]
     },
     "metadata": {},
     "output_type": "display_data"
    }
   ],
   "source": [
    "df = df.drop(\n",
    "    columns=[\n",
    "        \"Naive_Bayes_Classifier_Attrition_Flag_Card_Category_Contacts_Count_12_mon_Dependent_count_Education_Level_Months_Inactive_12_mon_1\",\n",
    "        \"Naive_Bayes_Classifier_Attrition_Flag_Card_Category_Contacts_Count_12_mon_Dependent_count_Education_Level_Months_Inactive_12_mon_2\",\n",
    "        \"CLIENTNUM\",\n",
    "    ],\n",
    "    errors=\"ignore\",\n",
    ")"
   ]
  },
  {
   "cell_type": "code",
   "execution_count": 6,
   "metadata": {},
   "outputs": [
    {
     "data": {
      "application/javascript": [
       "\n",
       "            setTimeout(function() {\n",
       "                var nbb_cell_id = 6;\n",
       "                var nbb_unformatted_code = \"# pd.DataFrame(gower.gower_matrix(df)).style.background_gradient()\";\n",
       "                var nbb_formatted_code = \"# pd.DataFrame(gower.gower_matrix(df)).style.background_gradient()\";\n",
       "                var nbb_cells = Jupyter.notebook.get_cells();\n",
       "                for (var i = 0; i < nbb_cells.length; ++i) {\n",
       "                    if (nbb_cells[i].input_prompt_number == nbb_cell_id) {\n",
       "                        if (nbb_cells[i].get_text() == nbb_unformatted_code) {\n",
       "                             nbb_cells[i].set_text(nbb_formatted_code);\n",
       "                        }\n",
       "                        break;\n",
       "                    }\n",
       "                }\n",
       "            }, 500);\n",
       "            "
      ],
      "text/plain": [
       "<IPython.core.display.Javascript object>"
      ]
     },
     "metadata": {},
     "output_type": "display_data"
    }
   ],
   "source": [
    "# pd.DataFrame(gower.gower_matrix(df)).style.background_gradient()"
   ]
  },
  {
   "cell_type": "code",
   "execution_count": 7,
   "metadata": {},
   "outputs": [
    {
     "data": {
      "text/plain": [
       "array(['$60K - $80K', 'Less than $40K', '$80K - $120K', '$40K - $60K',\n",
       "       '$120K +', 'Unknown'], dtype=object)"
      ]
     },
     "execution_count": 7,
     "metadata": {},
     "output_type": "execute_result"
    },
    {
     "data": {
      "application/javascript": [
       "\n",
       "            setTimeout(function() {\n",
       "                var nbb_cell_id = 7;\n",
       "                var nbb_unformatted_code = \"df.Income_Category.unique()\";\n",
       "                var nbb_formatted_code = \"df.Income_Category.unique()\";\n",
       "                var nbb_cells = Jupyter.notebook.get_cells();\n",
       "                for (var i = 0; i < nbb_cells.length; ++i) {\n",
       "                    if (nbb_cells[i].input_prompt_number == nbb_cell_id) {\n",
       "                        if (nbb_cells[i].get_text() == nbb_unformatted_code) {\n",
       "                             nbb_cells[i].set_text(nbb_formatted_code);\n",
       "                        }\n",
       "                        break;\n",
       "                    }\n",
       "                }\n",
       "            }, 500);\n",
       "            "
      ],
      "text/plain": [
       "<IPython.core.display.Javascript object>"
      ]
     },
     "metadata": {},
     "output_type": "display_data"
    }
   ],
   "source": [
    "df.Income_Category.unique()"
   ]
  },
  {
   "cell_type": "code",
   "execution_count": 8,
   "metadata": {},
   "outputs": [
    {
     "data": {
      "text/plain": [
       "array(['High School', 'Graduate', 'Uneducated', 'Unknown', 'College',\n",
       "       'Post-Graduate', 'Doctorate'], dtype=object)"
      ]
     },
     "execution_count": 8,
     "metadata": {},
     "output_type": "execute_result"
    },
    {
     "data": {
      "application/javascript": [
       "\n",
       "            setTimeout(function() {\n",
       "                var nbb_cell_id = 8;\n",
       "                var nbb_unformatted_code = \"df.Education_Level.unique()\";\n",
       "                var nbb_formatted_code = \"df.Education_Level.unique()\";\n",
       "                var nbb_cells = Jupyter.notebook.get_cells();\n",
       "                for (var i = 0; i < nbb_cells.length; ++i) {\n",
       "                    if (nbb_cells[i].input_prompt_number == nbb_cell_id) {\n",
       "                        if (nbb_cells[i].get_text() == nbb_unformatted_code) {\n",
       "                             nbb_cells[i].set_text(nbb_formatted_code);\n",
       "                        }\n",
       "                        break;\n",
       "                    }\n",
       "                }\n",
       "            }, 500);\n",
       "            "
      ],
      "text/plain": [
       "<IPython.core.display.Javascript object>"
      ]
     },
     "metadata": {},
     "output_type": "display_data"
    }
   ],
   "source": [
    "df.Education_Level.unique()"
   ]
  },
  {
   "cell_type": "code",
   "execution_count": 9,
   "metadata": {},
   "outputs": [
    {
     "data": {
      "text/plain": [
       "Existing Customer    8500\n",
       "Attrited Customer    1627\n",
       "Name: Attrition_Flag, dtype: int64"
      ]
     },
     "execution_count": 9,
     "metadata": {},
     "output_type": "execute_result"
    },
    {
     "data": {
      "application/javascript": [
       "\n",
       "            setTimeout(function() {\n",
       "                var nbb_cell_id = 9;\n",
       "                var nbb_unformatted_code = \"df.Attrition_Flag.value_counts()\";\n",
       "                var nbb_formatted_code = \"df.Attrition_Flag.value_counts()\";\n",
       "                var nbb_cells = Jupyter.notebook.get_cells();\n",
       "                for (var i = 0; i < nbb_cells.length; ++i) {\n",
       "                    if (nbb_cells[i].input_prompt_number == nbb_cell_id) {\n",
       "                        if (nbb_cells[i].get_text() == nbb_unformatted_code) {\n",
       "                             nbb_cells[i].set_text(nbb_formatted_code);\n",
       "                        }\n",
       "                        break;\n",
       "                    }\n",
       "                }\n",
       "            }, 500);\n",
       "            "
      ],
      "text/plain": [
       "<IPython.core.display.Javascript object>"
      ]
     },
     "metadata": {},
     "output_type": "display_data"
    }
   ],
   "source": [
    "df.Attrition_Flag.value_counts()"
   ]
  },
  {
   "cell_type": "code",
   "execution_count": 10,
   "metadata": {},
   "outputs": [
    {
     "data": {
      "text/plain": [
       "Existing Customer    0.83934\n",
       "Attrited Customer    0.16066\n",
       "Name: Attrition_Flag, dtype: float64"
      ]
     },
     "execution_count": 10,
     "metadata": {},
     "output_type": "execute_result"
    },
    {
     "data": {
      "application/javascript": [
       "\n",
       "            setTimeout(function() {\n",
       "                var nbb_cell_id = 10;\n",
       "                var nbb_unformatted_code = \"df.Attrition_Flag.value_counts(normalize=True)\";\n",
       "                var nbb_formatted_code = \"df.Attrition_Flag.value_counts(normalize=True)\";\n",
       "                var nbb_cells = Jupyter.notebook.get_cells();\n",
       "                for (var i = 0; i < nbb_cells.length; ++i) {\n",
       "                    if (nbb_cells[i].input_prompt_number == nbb_cell_id) {\n",
       "                        if (nbb_cells[i].get_text() == nbb_unformatted_code) {\n",
       "                             nbb_cells[i].set_text(nbb_formatted_code);\n",
       "                        }\n",
       "                        break;\n",
       "                    }\n",
       "                }\n",
       "            }, 500);\n",
       "            "
      ],
      "text/plain": [
       "<IPython.core.display.Javascript object>"
      ]
     },
     "metadata": {},
     "output_type": "display_data"
    }
   ],
   "source": [
    "df.Attrition_Flag.value_counts(normalize=True)"
   ]
  },
  {
   "cell_type": "code",
   "execution_count": 11,
   "metadata": {},
   "outputs": [
    {
     "data": {
      "text/plain": [
       "Blue        9436\n",
       "Silver       555\n",
       "Gold         116\n",
       "Platinum      20\n",
       "Name: Card_Category, dtype: int64"
      ]
     },
     "execution_count": 11,
     "metadata": {},
     "output_type": "execute_result"
    },
    {
     "data": {
      "application/javascript": [
       "\n",
       "            setTimeout(function() {\n",
       "                var nbb_cell_id = 11;\n",
       "                var nbb_unformatted_code = \"df.Card_Category.value_counts()\";\n",
       "                var nbb_formatted_code = \"df.Card_Category.value_counts()\";\n",
       "                var nbb_cells = Jupyter.notebook.get_cells();\n",
       "                for (var i = 0; i < nbb_cells.length; ++i) {\n",
       "                    if (nbb_cells[i].input_prompt_number == nbb_cell_id) {\n",
       "                        if (nbb_cells[i].get_text() == nbb_unformatted_code) {\n",
       "                             nbb_cells[i].set_text(nbb_formatted_code);\n",
       "                        }\n",
       "                        break;\n",
       "                    }\n",
       "                }\n",
       "            }, 500);\n",
       "            "
      ],
      "text/plain": [
       "<IPython.core.display.Javascript object>"
      ]
     },
     "metadata": {},
     "output_type": "display_data"
    }
   ],
   "source": [
    "df.Card_Category.value_counts()"
   ]
  },
  {
   "cell_type": "markdown",
   "metadata": {},
   "source": [
    "# Feature engineering"
   ]
  },
  {
   "cell_type": "code",
   "execution_count": 12,
   "metadata": {},
   "outputs": [
    {
     "data": {
      "application/javascript": [
       "\n",
       "            setTimeout(function() {\n",
       "                var nbb_cell_id = 12;\n",
       "                var nbb_unformatted_code = \"# mapping ordinal data\\nincome_map = {\\n    \\\"$60K - $80K\\\": 3,\\n    \\\"Less than $40K\\\": 1,\\n    \\\"$80K - $120K\\\": 4,\\n    \\\"$40K - $60K\\\": 2,\\n    \\\"$120K +\\\": 5,\\n    \\\"Unknown\\\": 0,\\n}\\n\\neducation_map = {\\n    \\\"High School\\\": 2,\\n    \\\"Graduate\\\": 3,\\n    \\\"Uneducated\\\": 1,\\n    \\\"Unknown\\\": 0,\\n    \\\"College\\\": 4,\\n    \\\"Post-Graduate\\\": 5,\\n    \\\"Doctorate\\\": 6,\\n}\\n\\n\\ncard_cat_map = {\\n    \\\"Blue\\\": 0,\\n    \\\"Silver\\\": 1,\\n    \\\"Gold\\\": 2,\\n    \\\"Platinum\\\": 3,\\n}\\n\\n\\ndf[\\\"Attrition_Flag\\\"] = (df[\\\"Attrition_Flag\\\"] == \\\"Existing Customer\\\").astype(int)\\ndf[\\\"Gender\\\"] = (df[\\\"Gender\\\"] == \\\"F\\\").astype(int)\\ndf[\\\"Income_Category\\\"] = df[\\\"Income_Category\\\"].map(income_map)\\ndf[\\\"Education_Level\\\"] = df[\\\"Education_Level\\\"].map(education_map)\\ndf[\\\"Card_Category\\\"] = df[\\\"Card_Category\\\"].map(card_cat_map)\";\n",
       "                var nbb_formatted_code = \"# mapping ordinal data\\nincome_map = {\\n    \\\"$60K - $80K\\\": 3,\\n    \\\"Less than $40K\\\": 1,\\n    \\\"$80K - $120K\\\": 4,\\n    \\\"$40K - $60K\\\": 2,\\n    \\\"$120K +\\\": 5,\\n    \\\"Unknown\\\": 0,\\n}\\n\\neducation_map = {\\n    \\\"High School\\\": 2,\\n    \\\"Graduate\\\": 3,\\n    \\\"Uneducated\\\": 1,\\n    \\\"Unknown\\\": 0,\\n    \\\"College\\\": 4,\\n    \\\"Post-Graduate\\\": 5,\\n    \\\"Doctorate\\\": 6,\\n}\\n\\n\\ncard_cat_map = {\\n    \\\"Blue\\\": 0,\\n    \\\"Silver\\\": 1,\\n    \\\"Gold\\\": 2,\\n    \\\"Platinum\\\": 3,\\n}\\n\\n\\ndf[\\\"Attrition_Flag\\\"] = (df[\\\"Attrition_Flag\\\"] == \\\"Existing Customer\\\").astype(int)\\ndf[\\\"Gender\\\"] = (df[\\\"Gender\\\"] == \\\"F\\\").astype(int)\\ndf[\\\"Income_Category\\\"] = df[\\\"Income_Category\\\"].map(income_map)\\ndf[\\\"Education_Level\\\"] = df[\\\"Education_Level\\\"].map(education_map)\\ndf[\\\"Card_Category\\\"] = df[\\\"Card_Category\\\"].map(card_cat_map)\";\n",
       "                var nbb_cells = Jupyter.notebook.get_cells();\n",
       "                for (var i = 0; i < nbb_cells.length; ++i) {\n",
       "                    if (nbb_cells[i].input_prompt_number == nbb_cell_id) {\n",
       "                        if (nbb_cells[i].get_text() == nbb_unformatted_code) {\n",
       "                             nbb_cells[i].set_text(nbb_formatted_code);\n",
       "                        }\n",
       "                        break;\n",
       "                    }\n",
       "                }\n",
       "            }, 500);\n",
       "            "
      ],
      "text/plain": [
       "<IPython.core.display.Javascript object>"
      ]
     },
     "metadata": {},
     "output_type": "display_data"
    }
   ],
   "source": [
    "# mapping ordinal data\n",
    "income_map = {\n",
    "    \"$60K - $80K\": 3,\n",
    "    \"Less than $40K\": 1,\n",
    "    \"$80K - $120K\": 4,\n",
    "    \"$40K - $60K\": 2,\n",
    "    \"$120K +\": 5,\n",
    "    \"Unknown\": 0,\n",
    "}\n",
    "\n",
    "education_map = {\n",
    "    \"High School\": 2,\n",
    "    \"Graduate\": 3,\n",
    "    \"Uneducated\": 1,\n",
    "    \"Unknown\": 0,\n",
    "    \"College\": 4,\n",
    "    \"Post-Graduate\": 5,\n",
    "    \"Doctorate\": 6,\n",
    "}\n",
    "\n",
    "\n",
    "card_cat_map = {\n",
    "    \"Blue\": 0,\n",
    "    \"Silver\": 1,\n",
    "    \"Gold\": 2,\n",
    "    \"Platinum\": 3,\n",
    "}\n",
    "\n",
    "\n",
    "df[\"Attrition_Flag\"] = (df[\"Attrition_Flag\"] == \"Existing Customer\").astype(int)\n",
    "df[\"Gender\"] = (df[\"Gender\"] == \"F\").astype(int)\n",
    "df[\"Income_Category\"] = df[\"Income_Category\"].map(income_map)\n",
    "df[\"Education_Level\"] = df[\"Education_Level\"].map(education_map)\n",
    "df[\"Card_Category\"] = df[\"Card_Category\"].map(card_cat_map)"
   ]
  },
  {
   "cell_type": "code",
   "execution_count": 13,
   "metadata": {
    "scrolled": false
   },
   "outputs": [
    {
     "data": {
      "text/html": [
       "<div>\n",
       "<style scoped>\n",
       "    .dataframe tbody tr th:only-of-type {\n",
       "        vertical-align: middle;\n",
       "    }\n",
       "\n",
       "    .dataframe tbody tr th {\n",
       "        vertical-align: top;\n",
       "    }\n",
       "\n",
       "    .dataframe thead th {\n",
       "        text-align: right;\n",
       "    }\n",
       "</style>\n",
       "<table border=\"1\" class=\"dataframe\">\n",
       "  <thead>\n",
       "    <tr style=\"text-align: right;\">\n",
       "      <th></th>\n",
       "      <th>Attrition_Flag</th>\n",
       "      <th>Customer_Age</th>\n",
       "      <th>Gender</th>\n",
       "      <th>Dependent_count</th>\n",
       "      <th>Education_Level</th>\n",
       "      <th>Marital_Status</th>\n",
       "      <th>Income_Category</th>\n",
       "      <th>Card_Category</th>\n",
       "      <th>Months_on_book</th>\n",
       "      <th>Total_Relationship_Count</th>\n",
       "      <th>Months_Inactive_12_mon</th>\n",
       "      <th>Contacts_Count_12_mon</th>\n",
       "      <th>Credit_Limit</th>\n",
       "      <th>Total_Revolving_Bal</th>\n",
       "      <th>Avg_Open_To_Buy</th>\n",
       "      <th>Total_Amt_Chng_Q4_Q1</th>\n",
       "      <th>Total_Trans_Amt</th>\n",
       "      <th>Total_Trans_Ct</th>\n",
       "      <th>Total_Ct_Chng_Q4_Q1</th>\n",
       "      <th>Avg_Utilization_Ratio</th>\n",
       "    </tr>\n",
       "  </thead>\n",
       "  <tbody>\n",
       "    <tr>\n",
       "      <th>0</th>\n",
       "      <td>1</td>\n",
       "      <td>45</td>\n",
       "      <td>0</td>\n",
       "      <td>3</td>\n",
       "      <td>2</td>\n",
       "      <td>Married</td>\n",
       "      <td>3</td>\n",
       "      <td>0</td>\n",
       "      <td>39</td>\n",
       "      <td>5</td>\n",
       "      <td>1</td>\n",
       "      <td>3</td>\n",
       "      <td>12691.0</td>\n",
       "      <td>777</td>\n",
       "      <td>11914.0</td>\n",
       "      <td>1.335</td>\n",
       "      <td>1144</td>\n",
       "      <td>42</td>\n",
       "      <td>1.625</td>\n",
       "      <td>0.061</td>\n",
       "    </tr>\n",
       "    <tr>\n",
       "      <th>1</th>\n",
       "      <td>1</td>\n",
       "      <td>49</td>\n",
       "      <td>1</td>\n",
       "      <td>5</td>\n",
       "      <td>3</td>\n",
       "      <td>Single</td>\n",
       "      <td>1</td>\n",
       "      <td>0</td>\n",
       "      <td>44</td>\n",
       "      <td>6</td>\n",
       "      <td>1</td>\n",
       "      <td>2</td>\n",
       "      <td>8256.0</td>\n",
       "      <td>864</td>\n",
       "      <td>7392.0</td>\n",
       "      <td>1.541</td>\n",
       "      <td>1291</td>\n",
       "      <td>33</td>\n",
       "      <td>3.714</td>\n",
       "      <td>0.105</td>\n",
       "    </tr>\n",
       "    <tr>\n",
       "      <th>2</th>\n",
       "      <td>1</td>\n",
       "      <td>51</td>\n",
       "      <td>0</td>\n",
       "      <td>3</td>\n",
       "      <td>3</td>\n",
       "      <td>Married</td>\n",
       "      <td>4</td>\n",
       "      <td>0</td>\n",
       "      <td>36</td>\n",
       "      <td>4</td>\n",
       "      <td>1</td>\n",
       "      <td>0</td>\n",
       "      <td>3418.0</td>\n",
       "      <td>0</td>\n",
       "      <td>3418.0</td>\n",
       "      <td>2.594</td>\n",
       "      <td>1887</td>\n",
       "      <td>20</td>\n",
       "      <td>2.333</td>\n",
       "      <td>0.000</td>\n",
       "    </tr>\n",
       "    <tr>\n",
       "      <th>3</th>\n",
       "      <td>1</td>\n",
       "      <td>40</td>\n",
       "      <td>1</td>\n",
       "      <td>4</td>\n",
       "      <td>2</td>\n",
       "      <td>Unknown</td>\n",
       "      <td>1</td>\n",
       "      <td>0</td>\n",
       "      <td>34</td>\n",
       "      <td>3</td>\n",
       "      <td>4</td>\n",
       "      <td>1</td>\n",
       "      <td>3313.0</td>\n",
       "      <td>2517</td>\n",
       "      <td>796.0</td>\n",
       "      <td>1.405</td>\n",
       "      <td>1171</td>\n",
       "      <td>20</td>\n",
       "      <td>2.333</td>\n",
       "      <td>0.760</td>\n",
       "    </tr>\n",
       "    <tr>\n",
       "      <th>4</th>\n",
       "      <td>1</td>\n",
       "      <td>40</td>\n",
       "      <td>0</td>\n",
       "      <td>3</td>\n",
       "      <td>1</td>\n",
       "      <td>Married</td>\n",
       "      <td>3</td>\n",
       "      <td>0</td>\n",
       "      <td>21</td>\n",
       "      <td>5</td>\n",
       "      <td>1</td>\n",
       "      <td>0</td>\n",
       "      <td>4716.0</td>\n",
       "      <td>0</td>\n",
       "      <td>4716.0</td>\n",
       "      <td>2.175</td>\n",
       "      <td>816</td>\n",
       "      <td>28</td>\n",
       "      <td>2.500</td>\n",
       "      <td>0.000</td>\n",
       "    </tr>\n",
       "  </tbody>\n",
       "</table>\n",
       "</div>"
      ],
      "text/plain": [
       "   Attrition_Flag  Customer_Age  Gender  Dependent_count  Education_Level  \\\n",
       "0               1            45       0                3                2   \n",
       "1               1            49       1                5                3   \n",
       "2               1            51       0                3                3   \n",
       "3               1            40       1                4                2   \n",
       "4               1            40       0                3                1   \n",
       "\n",
       "  Marital_Status  Income_Category  Card_Category  Months_on_book  \\\n",
       "0        Married                3              0              39   \n",
       "1         Single                1              0              44   \n",
       "2        Married                4              0              36   \n",
       "3        Unknown                1              0              34   \n",
       "4        Married                3              0              21   \n",
       "\n",
       "   Total_Relationship_Count  Months_Inactive_12_mon  Contacts_Count_12_mon  \\\n",
       "0                         5                       1                      3   \n",
       "1                         6                       1                      2   \n",
       "2                         4                       1                      0   \n",
       "3                         3                       4                      1   \n",
       "4                         5                       1                      0   \n",
       "\n",
       "   Credit_Limit  Total_Revolving_Bal  Avg_Open_To_Buy  Total_Amt_Chng_Q4_Q1  \\\n",
       "0       12691.0                  777          11914.0                 1.335   \n",
       "1        8256.0                  864           7392.0                 1.541   \n",
       "2        3418.0                    0           3418.0                 2.594   \n",
       "3        3313.0                 2517            796.0                 1.405   \n",
       "4        4716.0                    0           4716.0                 2.175   \n",
       "\n",
       "   Total_Trans_Amt  Total_Trans_Ct  Total_Ct_Chng_Q4_Q1  Avg_Utilization_Ratio  \n",
       "0             1144              42                1.625                  0.061  \n",
       "1             1291              33                3.714                  0.105  \n",
       "2             1887              20                2.333                  0.000  \n",
       "3             1171              20                2.333                  0.760  \n",
       "4              816              28                2.500                  0.000  "
      ]
     },
     "execution_count": 13,
     "metadata": {},
     "output_type": "execute_result"
    },
    {
     "data": {
      "application/javascript": [
       "\n",
       "            setTimeout(function() {\n",
       "                var nbb_cell_id = 13;\n",
       "                var nbb_unformatted_code = \"df.head()\";\n",
       "                var nbb_formatted_code = \"df.head()\";\n",
       "                var nbb_cells = Jupyter.notebook.get_cells();\n",
       "                for (var i = 0; i < nbb_cells.length; ++i) {\n",
       "                    if (nbb_cells[i].input_prompt_number == nbb_cell_id) {\n",
       "                        if (nbb_cells[i].get_text() == nbb_unformatted_code) {\n",
       "                             nbb_cells[i].set_text(nbb_formatted_code);\n",
       "                        }\n",
       "                        break;\n",
       "                    }\n",
       "                }\n",
       "            }, 500);\n",
       "            "
      ],
      "text/plain": [
       "<IPython.core.display.Javascript object>"
      ]
     },
     "metadata": {},
     "output_type": "display_data"
    }
   ],
   "source": [
    "df.head()"
   ]
  },
  {
   "cell_type": "markdown",
   "metadata": {},
   "source": [
    "# Split train and test data"
   ]
  },
  {
   "cell_type": "code",
   "execution_count": 14,
   "metadata": {},
   "outputs": [
    {
     "data": {
      "application/javascript": [
       "\n",
       "            setTimeout(function() {\n",
       "                var nbb_cell_id = 14;\n",
       "                var nbb_unformatted_code = \"X = df.drop(columns=\\\"Attrition_Flag\\\")\\ny = df[\\\"Attrition_Flag\\\"]\\n\\nX_train, X_test, y_train, y_test = train_test_split(\\n    X, y, test_size=0.2, random_state=22, stratify=y\\n)\";\n",
       "                var nbb_formatted_code = \"X = df.drop(columns=\\\"Attrition_Flag\\\")\\ny = df[\\\"Attrition_Flag\\\"]\\n\\nX_train, X_test, y_train, y_test = train_test_split(\\n    X, y, test_size=0.2, random_state=22, stratify=y\\n)\";\n",
       "                var nbb_cells = Jupyter.notebook.get_cells();\n",
       "                for (var i = 0; i < nbb_cells.length; ++i) {\n",
       "                    if (nbb_cells[i].input_prompt_number == nbb_cell_id) {\n",
       "                        if (nbb_cells[i].get_text() == nbb_unformatted_code) {\n",
       "                             nbb_cells[i].set_text(nbb_formatted_code);\n",
       "                        }\n",
       "                        break;\n",
       "                    }\n",
       "                }\n",
       "            }, 500);\n",
       "            "
      ],
      "text/plain": [
       "<IPython.core.display.Javascript object>"
      ]
     },
     "metadata": {},
     "output_type": "display_data"
    }
   ],
   "source": [
    "X = df.drop(columns=\"Attrition_Flag\")\n",
    "y = df[\"Attrition_Flag\"]\n",
    "\n",
    "X_train, X_test, y_train, y_test = train_test_split(\n",
    "    X, y, test_size=0.2, random_state=22, stratify=y\n",
    ")"
   ]
  },
  {
   "cell_type": "code",
   "execution_count": 15,
   "metadata": {
    "scrolled": true
   },
   "outputs": [
    {
     "data": {
      "text/plain": [
       "Index(['Attrition_Flag', 'Customer_Age', 'Gender', 'Dependent_count',\n",
       "       'Education_Level', 'Marital_Status', 'Income_Category', 'Card_Category',\n",
       "       'Months_on_book', 'Total_Relationship_Count', 'Months_Inactive_12_mon',\n",
       "       'Contacts_Count_12_mon', 'Credit_Limit', 'Total_Revolving_Bal',\n",
       "       'Avg_Open_To_Buy', 'Total_Amt_Chng_Q4_Q1', 'Total_Trans_Amt',\n",
       "       'Total_Trans_Ct', 'Total_Ct_Chng_Q4_Q1', 'Avg_Utilization_Ratio'],\n",
       "      dtype='object')"
      ]
     },
     "execution_count": 15,
     "metadata": {},
     "output_type": "execute_result"
    },
    {
     "data": {
      "application/javascript": [
       "\n",
       "            setTimeout(function() {\n",
       "                var nbb_cell_id = 15;\n",
       "                var nbb_unformatted_code = \"df.columns\";\n",
       "                var nbb_formatted_code = \"df.columns\";\n",
       "                var nbb_cells = Jupyter.notebook.get_cells();\n",
       "                for (var i = 0; i < nbb_cells.length; ++i) {\n",
       "                    if (nbb_cells[i].input_prompt_number == nbb_cell_id) {\n",
       "                        if (nbb_cells[i].get_text() == nbb_unformatted_code) {\n",
       "                             nbb_cells[i].set_text(nbb_formatted_code);\n",
       "                        }\n",
       "                        break;\n",
       "                    }\n",
       "                }\n",
       "            }, 500);\n",
       "            "
      ],
      "text/plain": [
       "<IPython.core.display.Javascript object>"
      ]
     },
     "metadata": {},
     "output_type": "display_data"
    }
   ],
   "source": [
    "df.columns"
   ]
  },
  {
   "cell_type": "markdown",
   "metadata": {},
   "source": [
    "# Preprocessing"
   ]
  },
  {
   "cell_type": "code",
   "execution_count": 16,
   "metadata": {},
   "outputs": [
    {
     "data": {
      "application/javascript": [
       "\n",
       "            setTimeout(function() {\n",
       "                var nbb_cell_id = 16;\n",
       "                var nbb_unformatted_code = \"num_cols = [\\n    \\\"Customer_Age\\\",\\n    \\\"Dependent_count\\\",\\n    \\\"Months_on_book\\\",\\n    \\\"Total_Relationship_Count\\\",\\n    \\\"Months_Inactive_12_mon\\\",\\n    \\\"Contacts_Count_12_mon\\\",\\n    \\\"Credit_Limit\\\",\\n    \\\"Total_Revolving_Bal\\\",\\n    \\\"Avg_Open_To_Buy\\\",\\n    \\\"Total_Amt_Chng_Q4_Q1\\\",\\n    \\\"Total_Trans_Amt\\\",\\n    \\\"Total_Trans_Ct\\\",\\n    \\\"Total_Ct_Chng_Q4_Q1\\\",\\n    \\\"Avg_Utilization_Ratio\\\",\\n    \\\"Income_Category\\\",\\n    \\\"Education_Level\\\",\\n    \\\"Card_Category\\\",\\n]\\ncat_cols = [\\\"Marital_Status\\\"]\\ndrop_cats = [\\\"Unknown\\\"]\";\n",
       "                var nbb_formatted_code = \"num_cols = [\\n    \\\"Customer_Age\\\",\\n    \\\"Dependent_count\\\",\\n    \\\"Months_on_book\\\",\\n    \\\"Total_Relationship_Count\\\",\\n    \\\"Months_Inactive_12_mon\\\",\\n    \\\"Contacts_Count_12_mon\\\",\\n    \\\"Credit_Limit\\\",\\n    \\\"Total_Revolving_Bal\\\",\\n    \\\"Avg_Open_To_Buy\\\",\\n    \\\"Total_Amt_Chng_Q4_Q1\\\",\\n    \\\"Total_Trans_Amt\\\",\\n    \\\"Total_Trans_Ct\\\",\\n    \\\"Total_Ct_Chng_Q4_Q1\\\",\\n    \\\"Avg_Utilization_Ratio\\\",\\n    \\\"Income_Category\\\",\\n    \\\"Education_Level\\\",\\n    \\\"Card_Category\\\",\\n]\\ncat_cols = [\\\"Marital_Status\\\"]\\ndrop_cats = [\\\"Unknown\\\"]\";\n",
       "                var nbb_cells = Jupyter.notebook.get_cells();\n",
       "                for (var i = 0; i < nbb_cells.length; ++i) {\n",
       "                    if (nbb_cells[i].input_prompt_number == nbb_cell_id) {\n",
       "                        if (nbb_cells[i].get_text() == nbb_unformatted_code) {\n",
       "                             nbb_cells[i].set_text(nbb_formatted_code);\n",
       "                        }\n",
       "                        break;\n",
       "                    }\n",
       "                }\n",
       "            }, 500);\n",
       "            "
      ],
      "text/plain": [
       "<IPython.core.display.Javascript object>"
      ]
     },
     "metadata": {},
     "output_type": "display_data"
    }
   ],
   "source": [
    "num_cols = [\n",
    "    \"Customer_Age\",\n",
    "    \"Dependent_count\",\n",
    "    \"Months_on_book\",\n",
    "    \"Total_Relationship_Count\",\n",
    "    \"Months_Inactive_12_mon\",\n",
    "    \"Contacts_Count_12_mon\",\n",
    "    \"Credit_Limit\",\n",
    "    \"Total_Revolving_Bal\",\n",
    "    \"Avg_Open_To_Buy\",\n",
    "    \"Total_Amt_Chng_Q4_Q1\",\n",
    "    \"Total_Trans_Amt\",\n",
    "    \"Total_Trans_Ct\",\n",
    "    \"Total_Ct_Chng_Q4_Q1\",\n",
    "    \"Avg_Utilization_Ratio\",\n",
    "    \"Income_Category\",\n",
    "    \"Education_Level\",\n",
    "    \"Card_Category\",\n",
    "]\n",
    "cat_cols = [\"Marital_Status\"]\n",
    "drop_cats = [\"Unknown\"]"
   ]
  },
  {
   "cell_type": "code",
   "execution_count": 17,
   "metadata": {},
   "outputs": [
    {
     "data": {
      "application/javascript": [
       "\n",
       "            setTimeout(function() {\n",
       "                var nbb_cell_id = 17;\n",
       "                var nbb_unformatted_code = \"preprocessing = ColumnTransformer(\\n    [\\n        (\\\"scale\\\", StandardScaler(), num_cols),\\n        (\\\"encode\\\", LeaveOneOutEncoder(), cat_cols),\\n    ],\\n    remainder=\\\"passthrough\\\",\\n)\";\n",
       "                var nbb_formatted_code = \"preprocessing = ColumnTransformer(\\n    [\\n        (\\\"scale\\\", StandardScaler(), num_cols),\\n        (\\\"encode\\\", LeaveOneOutEncoder(), cat_cols),\\n    ],\\n    remainder=\\\"passthrough\\\",\\n)\";\n",
       "                var nbb_cells = Jupyter.notebook.get_cells();\n",
       "                for (var i = 0; i < nbb_cells.length; ++i) {\n",
       "                    if (nbb_cells[i].input_prompt_number == nbb_cell_id) {\n",
       "                        if (nbb_cells[i].get_text() == nbb_unformatted_code) {\n",
       "                             nbb_cells[i].set_text(nbb_formatted_code);\n",
       "                        }\n",
       "                        break;\n",
       "                    }\n",
       "                }\n",
       "            }, 500);\n",
       "            "
      ],
      "text/plain": [
       "<IPython.core.display.Javascript object>"
      ]
     },
     "metadata": {},
     "output_type": "display_data"
    }
   ],
   "source": [
    "preprocessing = ColumnTransformer(\n",
    "    [\n",
    "        (\"scale\", StandardScaler(), num_cols),\n",
    "        (\"encode\", LeaveOneOutEncoder(), cat_cols),\n",
    "    ],\n",
    "    remainder=\"passthrough\",\n",
    ")"
   ]
  },
  {
   "cell_type": "markdown",
   "metadata": {},
   "source": [
    "# Run Random Forest Model"
   ]
  },
  {
   "cell_type": "code",
   "execution_count": 18,
   "metadata": {
    "scrolled": true
   },
   "outputs": [
    {
     "name": "stdout",
     "output_type": "stream",
     "text": [
      "Train score for Linear Regression model before gridsearch: 0.9238365633872362\n",
      "Test score for Linear Regression model before gridsearch: 0.8968410661401777\n",
      "Fitting 5 folds for each of 36 candidates, totalling 180 fits\n"
     ]
    },
    {
     "name": "stderr",
     "output_type": "stream",
     "text": [
      "[Parallel(n_jobs=-1)]: Using backend LokyBackend with 4 concurrent workers.\n",
      "[Parallel(n_jobs=-1)]: Done  42 tasks      | elapsed:   40.8s\n",
      "[Parallel(n_jobs=-1)]: Done 180 out of 180 | elapsed:  2.8min finished\n"
     ]
    },
    {
     "name": "stdout",
     "output_type": "stream",
     "text": [
      "Train score for Linear Regression model: 0.9222318232316998\n",
      "Test score for Linear Regression model: 0.8998025666337611\n"
     ]
    },
    {
     "data": {
      "application/javascript": [
       "\n",
       "            setTimeout(function() {\n",
       "                var nbb_cell_id = 18;\n",
       "                var nbb_unformatted_code = \"n_estimators = 100\\nlearning_rate = 2 / n_estimators\\n\\npipeline_rf = Pipeline(\\n    [\\n        (\\\"preprocessing\\\", preprocessing),\\n        (\\\"sampling\\\", SMOTE()),\\n        (\\\"RFmodel\\\", RandomForestClassifier()),\\n    ]\\n)\\n\\npipeline_rf.fit(X_train, y_train)\\n\\ntrain_score = pipeline_rf.score(X_train, y_train)\\ntest_score = pipeline_rf.score(X_test, y_test)\\n\\nprint(f\\\"Train score for Linear Regression model before gridsearch: {train_score}\\\")\\nprint(f\\\"Test score for Linear Regression model before gridsearch: {test_score}\\\")\\n\\n\\ngrid = {\\n    \\\"RFmodel__n_estimators\\\": [50, 100, 150],\\n    \\\"RFmodel__max_depth\\\": [80, 90, 100, 110],\\n    \\\"RFmodel__min_samples_leaf\\\": [3, 4, 5],\\n}\\n\\npipeline_rf_cv = GridSearchCV(pipeline_rf, grid, verbose=1, cv=5, n_jobs=-1)\\npipeline_rf_cv.fit(X_train, y_train)\\n\\nprint(\\n    f\\\"Train score for Linear Regression model: {pipeline_rf_cv.score(X_train, y_train)}\\\"\\n)\\nprint(f\\\"Test score for Linear Regression model: {pipeline_rf_cv.score(X_test, y_test)}\\\")\";\n",
       "                var nbb_formatted_code = \"n_estimators = 100\\nlearning_rate = 2 / n_estimators\\n\\npipeline_rf = Pipeline(\\n    [\\n        (\\\"preprocessing\\\", preprocessing),\\n        (\\\"sampling\\\", SMOTE()),\\n        (\\\"RFmodel\\\", RandomForestClassifier()),\\n    ]\\n)\\n\\npipeline_rf.fit(X_train, y_train)\\n\\ntrain_score = pipeline_rf.score(X_train, y_train)\\ntest_score = pipeline_rf.score(X_test, y_test)\\n\\nprint(f\\\"Train score for Linear Regression model before gridsearch: {train_score}\\\")\\nprint(f\\\"Test score for Linear Regression model before gridsearch: {test_score}\\\")\\n\\n\\ngrid = {\\n    \\\"RFmodel__n_estimators\\\": [50, 100, 150],\\n    \\\"RFmodel__max_depth\\\": [80, 90, 100, 110],\\n    \\\"RFmodel__min_samples_leaf\\\": [3, 4, 5],\\n}\\n\\npipeline_rf_cv = GridSearchCV(pipeline_rf, grid, verbose=1, cv=5, n_jobs=-1)\\npipeline_rf_cv.fit(X_train, y_train)\\n\\nprint(\\n    f\\\"Train score for Linear Regression model: {pipeline_rf_cv.score(X_train, y_train)}\\\"\\n)\\nprint(f\\\"Test score for Linear Regression model: {pipeline_rf_cv.score(X_test, y_test)}\\\")\";\n",
       "                var nbb_cells = Jupyter.notebook.get_cells();\n",
       "                for (var i = 0; i < nbb_cells.length; ++i) {\n",
       "                    if (nbb_cells[i].input_prompt_number == nbb_cell_id) {\n",
       "                        if (nbb_cells[i].get_text() == nbb_unformatted_code) {\n",
       "                             nbb_cells[i].set_text(nbb_formatted_code);\n",
       "                        }\n",
       "                        break;\n",
       "                    }\n",
       "                }\n",
       "            }, 500);\n",
       "            "
      ],
      "text/plain": [
       "<IPython.core.display.Javascript object>"
      ]
     },
     "metadata": {},
     "output_type": "display_data"
    }
   ],
   "source": [
    "n_estimators = 100\n",
    "learning_rate = 2 / n_estimators\n",
    "\n",
    "pipeline_rf = Pipeline(\n",
    "    [\n",
    "        (\"preprocessing\", preprocessing),\n",
    "        (\"sampling\", SMOTE()),\n",
    "        (\"RFmodel\", RandomForestClassifier()),\n",
    "    ]\n",
    ")\n",
    "\n",
    "pipeline_rf.fit(X_train, y_train)\n",
    "\n",
    "train_score = pipeline_rf.score(X_train, y_train)\n",
    "test_score = pipeline_rf.score(X_test, y_test)\n",
    "\n",
    "print(f\"Train score for Linear Regression model before gridsearch: {train_score}\")\n",
    "print(f\"Test score for Linear Regression model before gridsearch: {test_score}\")\n",
    "\n",
    "\n",
    "grid = {\n",
    "    \"RFmodel__n_estimators\": [50, 100, 150],\n",
    "    \"RFmodel__max_depth\": [80, 90, 100, 110],\n",
    "    \"RFmodel__min_samples_leaf\": [3, 4, 5],\n",
    "}\n",
    "\n",
    "pipeline_rf_cv = GridSearchCV(pipeline_rf, grid, verbose=1, cv=5, n_jobs=-1)\n",
    "pipeline_rf_cv.fit(X_train, y_train)\n",
    "\n",
    "print(\n",
    "    f\"Train score for Linear Regression model: {pipeline_rf_cv.score(X_train, y_train)}\"\n",
    ")\n",
    "print(f\"Test score for Linear Regression model: {pipeline_rf_cv.score(X_test, y_test)}\")"
   ]
  },
  {
   "cell_type": "code",
   "execution_count": 34,
   "metadata": {
    "scrolled": true
   },
   "outputs": [
    {
     "name": "stdout",
     "output_type": "stream",
     "text": [
      "{'RFmodel__max_depth': 80, 'RFmodel__min_samples_leaf': 3, 'RFmodel__n_estimators': 150}\n",
      "[[ 178  147]\n",
      " [  56 1645]]\n",
      "              precision    recall  f1-score   support\n",
      "\n",
      "           0       0.76      0.55      0.64       325\n",
      "           1       0.92      0.97      0.94      1701\n",
      "\n",
      "    accuracy                           0.90      2026\n",
      "   macro avg       0.84      0.76      0.79      2026\n",
      "weighted avg       0.89      0.90      0.89      2026\n",
      "\n",
      "percentage matrix[[0.08785785 0.07255676]\n",
      " [0.02764067 0.81194472]]\n"
     ]
    },
    {
     "data": {
      "text/html": [
       "<div>\n",
       "<style scoped>\n",
       "    .dataframe tbody tr th:only-of-type {\n",
       "        vertical-align: middle;\n",
       "    }\n",
       "\n",
       "    .dataframe tbody tr th {\n",
       "        vertical-align: top;\n",
       "    }\n",
       "\n",
       "    .dataframe thead th {\n",
       "        text-align: right;\n",
       "    }\n",
       "</style>\n",
       "<table border=\"1\" class=\"dataframe\">\n",
       "  <thead>\n",
       "    <tr style=\"text-align: right;\">\n",
       "      <th></th>\n",
       "      <th>pred_Customer_Leaving</th>\n",
       "      <th>pred_Customer_Stay</th>\n",
       "    </tr>\n",
       "  </thead>\n",
       "  <tbody>\n",
       "    <tr>\n",
       "      <th>actual_Customer_Leaving</th>\n",
       "      <td>178</td>\n",
       "      <td>147</td>\n",
       "    </tr>\n",
       "    <tr>\n",
       "      <th>actual_Customer_Stay</th>\n",
       "      <td>56</td>\n",
       "      <td>1645</td>\n",
       "    </tr>\n",
       "  </tbody>\n",
       "</table>\n",
       "</div>"
      ],
      "text/plain": [
       "                         pred_Customer_Leaving  pred_Customer_Stay\n",
       "actual_Customer_Leaving                    178                 147\n",
       "actual_Customer_Stay                        56                1645"
      ]
     },
     "metadata": {},
     "output_type": "display_data"
    },
    {
     "data": {
      "application/javascript": [
       "\n",
       "            setTimeout(function() {\n",
       "                var nbb_cell_id = 34;\n",
       "                var nbb_unformatted_code = \"print(pipeline_rf_cv.best_params_)\\n\\ny_pred = pipeline_rf_cv.predict(X_test)\\n\\nprint(confusion_matrix(y_test, y_pred))\\nprint(classification_report(y_test, y_pred))\\n\\nconfusion_mat = confusion_matrix(y_test, y_pred)\\nconfusion_df = pd.DataFrame(\\n    confusion_mat,\\n    index=[\\\"actual_Customer_Leaving\\\", \\\"actual_Customer_Stay\\\"],\\n    columns=[\\\"pred_Customer_Leaving\\\", \\\"pred_Customer_Stay\\\"],\\n)\\nprint(f\\\"percentage matrix{confusion_mat/(len(y_pred))}\\\")\\n\\ndisplay(confusion_df)\";\n",
       "                var nbb_formatted_code = \"print(pipeline_rf_cv.best_params_)\\n\\ny_pred = pipeline_rf_cv.predict(X_test)\\n\\nprint(confusion_matrix(y_test, y_pred))\\nprint(classification_report(y_test, y_pred))\\n\\nconfusion_mat = confusion_matrix(y_test, y_pred)\\nconfusion_df = pd.DataFrame(\\n    confusion_mat,\\n    index=[\\\"actual_Customer_Leaving\\\", \\\"actual_Customer_Stay\\\"],\\n    columns=[\\\"pred_Customer_Leaving\\\", \\\"pred_Customer_Stay\\\"],\\n)\\nprint(f\\\"percentage matrix{confusion_mat/(len(y_pred))}\\\")\\n\\ndisplay(confusion_df)\";\n",
       "                var nbb_cells = Jupyter.notebook.get_cells();\n",
       "                for (var i = 0; i < nbb_cells.length; ++i) {\n",
       "                    if (nbb_cells[i].input_prompt_number == nbb_cell_id) {\n",
       "                        if (nbb_cells[i].get_text() == nbb_unformatted_code) {\n",
       "                             nbb_cells[i].set_text(nbb_formatted_code);\n",
       "                        }\n",
       "                        break;\n",
       "                    }\n",
       "                }\n",
       "            }, 500);\n",
       "            "
      ],
      "text/plain": [
       "<IPython.core.display.Javascript object>"
      ]
     },
     "metadata": {},
     "output_type": "display_data"
    }
   ],
   "source": [
    "print(pipeline_rf_cv.best_params_)\n",
    "\n",
    "y_pred = pipeline_rf_cv.predict(X_test)\n",
    "\n",
    "print(confusion_matrix(y_test, y_pred))\n",
    "print(classification_report(y_test, y_pred))\n",
    "\n",
    "confusion_mat = confusion_matrix(y_test, y_pred)\n",
    "confusion_df = pd.DataFrame(\n",
    "    confusion_mat,\n",
    "    index=[\"actual_Customer_Leaving\", \"actual_Customer_Stay\"],\n",
    "    columns=[\"pred_Customer_Leaving\", \"pred_Customer_Stay\"],\n",
    ")\n",
    "print(f\"percentage matrix{confusion_mat/(len(y_pred))}\")\n",
    "\n",
    "display(confusion_df)"
   ]
  },
  {
   "cell_type": "markdown",
   "metadata": {},
   "source": [
    "### Random Forest are decent results, slightly over fit but still doing better than guessing 1."
   ]
  },
  {
   "cell_type": "markdown",
   "metadata": {},
   "source": [
    "# KNN Model"
   ]
  },
  {
   "cell_type": "code",
   "execution_count": 19,
   "metadata": {},
   "outputs": [
    {
     "name": "stdout",
     "output_type": "stream",
     "text": [
      "Train score for Linear Regression model before gridsearch: 0.9174176027650908\n",
      "Test score for Linear Regression model before gridsearch: 0.8538993089832182\n",
      "Fitting 5 folds for each of 16 candidates, totalling 80 fits\n"
     ]
    },
    {
     "name": "stderr",
     "output_type": "stream",
     "text": [
      "[Parallel(n_jobs=-1)]: Using backend LokyBackend with 4 concurrent workers.\n",
      "[Parallel(n_jobs=-1)]: Done  42 tasks      | elapsed:   33.3s\n",
      "[Parallel(n_jobs=-1)]: Done  80 out of  80 | elapsed:   58.7s finished\n"
     ]
    },
    {
     "name": "stdout",
     "output_type": "stream",
     "text": [
      "Train score for Linear Regression model: 0.918158252067646\n",
      "Test score for Linear Regression model: 0.849457058242843\n"
     ]
    },
    {
     "data": {
      "application/javascript": [
       "\n",
       "            setTimeout(function() {\n",
       "                var nbb_cell_id = 19;\n",
       "                var nbb_unformatted_code = \"pipeline_knn = Pipeline(\\n    [\\n        (\\\"preprocessing\\\", preprocessing),\\n        (\\\"sampling\\\", SMOTE()),\\n        (\\\"KNmodel\\\", KNeighborsClassifier()),\\n    ]\\n)\\n\\n\\npipeline_knn.fit(X_train, y_train)\\n\\ntrain_score = pipeline_knn.score(X_train, y_train)\\ntest_score = pipeline_knn.score(X_test, y_test)\\n\\nprint(f\\\"Train score for Linear Regression model before gridsearch: {train_score}\\\")\\nprint(f\\\"Test score for Linear Regression model before gridsearch: {test_score}\\\")\\n\\n\\ngrid = {\\n    \\\"KNmodel__algorithm\\\": [\\\"auto\\\", \\\"ball_tree\\\", \\\"kd_tree\\\", \\\"brute\\\"],\\n    \\\"KNmodel__n_neighbors\\\": [5, 10, 25, 50],\\n}\\n\\npipeline_knn_cv = GridSearchCV(pipeline_knn, grid, verbose=1, cv=5, n_jobs=-1)\\npipeline_knn_cv.fit(X_train, y_train)\\n\\nprint(\\n    f\\\"Train score for Linear Regression model: {pipeline_knn_cv.score(X_train, y_train)}\\\"\\n)\\nprint(\\n    f\\\"Test score for Linear Regression model: {pipeline_knn_cv.score(X_test, y_test)}\\\"\\n)\";\n",
       "                var nbb_formatted_code = \"pipeline_knn = Pipeline(\\n    [\\n        (\\\"preprocessing\\\", preprocessing),\\n        (\\\"sampling\\\", SMOTE()),\\n        (\\\"KNmodel\\\", KNeighborsClassifier()),\\n    ]\\n)\\n\\n\\npipeline_knn.fit(X_train, y_train)\\n\\ntrain_score = pipeline_knn.score(X_train, y_train)\\ntest_score = pipeline_knn.score(X_test, y_test)\\n\\nprint(f\\\"Train score for Linear Regression model before gridsearch: {train_score}\\\")\\nprint(f\\\"Test score for Linear Regression model before gridsearch: {test_score}\\\")\\n\\n\\ngrid = {\\n    \\\"KNmodel__algorithm\\\": [\\\"auto\\\", \\\"ball_tree\\\", \\\"kd_tree\\\", \\\"brute\\\"],\\n    \\\"KNmodel__n_neighbors\\\": [5, 10, 25, 50],\\n}\\n\\npipeline_knn_cv = GridSearchCV(pipeline_knn, grid, verbose=1, cv=5, n_jobs=-1)\\npipeline_knn_cv.fit(X_train, y_train)\\n\\nprint(\\n    f\\\"Train score for Linear Regression model: {pipeline_knn_cv.score(X_train, y_train)}\\\"\\n)\\nprint(\\n    f\\\"Test score for Linear Regression model: {pipeline_knn_cv.score(X_test, y_test)}\\\"\\n)\";\n",
       "                var nbb_cells = Jupyter.notebook.get_cells();\n",
       "                for (var i = 0; i < nbb_cells.length; ++i) {\n",
       "                    if (nbb_cells[i].input_prompt_number == nbb_cell_id) {\n",
       "                        if (nbb_cells[i].get_text() == nbb_unformatted_code) {\n",
       "                             nbb_cells[i].set_text(nbb_formatted_code);\n",
       "                        }\n",
       "                        break;\n",
       "                    }\n",
       "                }\n",
       "            }, 500);\n",
       "            "
      ],
      "text/plain": [
       "<IPython.core.display.Javascript object>"
      ]
     },
     "metadata": {},
     "output_type": "display_data"
    }
   ],
   "source": [
    "pipeline_knn = Pipeline(\n",
    "    [\n",
    "        (\"preprocessing\", preprocessing),\n",
    "        (\"sampling\", SMOTE()),\n",
    "        (\"KNmodel\", KNeighborsClassifier()),\n",
    "    ]\n",
    ")\n",
    "\n",
    "\n",
    "pipeline_knn.fit(X_train, y_train)\n",
    "\n",
    "train_score = pipeline_knn.score(X_train, y_train)\n",
    "test_score = pipeline_knn.score(X_test, y_test)\n",
    "\n",
    "print(f\"Train score for Linear Regression model before gridsearch: {train_score}\")\n",
    "print(f\"Test score for Linear Regression model before gridsearch: {test_score}\")\n",
    "\n",
    "\n",
    "grid = {\n",
    "    \"KNmodel__algorithm\": [\"auto\", \"ball_tree\", \"kd_tree\", \"brute\"],\n",
    "    \"KNmodel__n_neighbors\": [5, 10, 25, 50],\n",
    "}\n",
    "\n",
    "pipeline_knn_cv = GridSearchCV(pipeline_knn, grid, verbose=1, cv=5, n_jobs=-1)\n",
    "pipeline_knn_cv.fit(X_train, y_train)\n",
    "\n",
    "print(\n",
    "    f\"Train score for Linear Regression model: {pipeline_knn_cv.score(X_train, y_train)}\"\n",
    ")\n",
    "print(\n",
    "    f\"Test score for Linear Regression model: {pipeline_knn_cv.score(X_test, y_test)}\"\n",
    ")"
   ]
  },
  {
   "cell_type": "code",
   "execution_count": 35,
   "metadata": {
    "scrolled": true
   },
   "outputs": [
    {
     "name": "stdout",
     "output_type": "stream",
     "text": [
      "{'KNmodel__algorithm': 'auto', 'KNmodel__n_neighbors': 5}\n",
      "[[ 262   63]\n",
      " [ 242 1459]]\n",
      "              precision    recall  f1-score   support\n",
      "\n",
      "           0       0.52      0.81      0.63       325\n",
      "           1       0.96      0.86      0.91      1701\n",
      "\n",
      "    accuracy                           0.85      2026\n",
      "   macro avg       0.74      0.83      0.77      2026\n",
      "weighted avg       0.89      0.85      0.86      2026\n",
      "\n",
      "percentage matrix[[0.12931885 0.03109576]\n",
      " [0.11944719 0.7201382 ]]\n"
     ]
    },
    {
     "data": {
      "text/html": [
       "<div>\n",
       "<style scoped>\n",
       "    .dataframe tbody tr th:only-of-type {\n",
       "        vertical-align: middle;\n",
       "    }\n",
       "\n",
       "    .dataframe tbody tr th {\n",
       "        vertical-align: top;\n",
       "    }\n",
       "\n",
       "    .dataframe thead th {\n",
       "        text-align: right;\n",
       "    }\n",
       "</style>\n",
       "<table border=\"1\" class=\"dataframe\">\n",
       "  <thead>\n",
       "    <tr style=\"text-align: right;\">\n",
       "      <th></th>\n",
       "      <th>pred_Customer_Leaving</th>\n",
       "      <th>pred_Customer_Stay</th>\n",
       "    </tr>\n",
       "  </thead>\n",
       "  <tbody>\n",
       "    <tr>\n",
       "      <th>actual_Customer_Leaving</th>\n",
       "      <td>262</td>\n",
       "      <td>63</td>\n",
       "    </tr>\n",
       "    <tr>\n",
       "      <th>actual_Customer_Stay</th>\n",
       "      <td>242</td>\n",
       "      <td>1459</td>\n",
       "    </tr>\n",
       "  </tbody>\n",
       "</table>\n",
       "</div>"
      ],
      "text/plain": [
       "                         pred_Customer_Leaving  pred_Customer_Stay\n",
       "actual_Customer_Leaving                    262                  63\n",
       "actual_Customer_Stay                       242                1459"
      ]
     },
     "metadata": {},
     "output_type": "display_data"
    },
    {
     "data": {
      "application/javascript": [
       "\n",
       "            setTimeout(function() {\n",
       "                var nbb_cell_id = 35;\n",
       "                var nbb_unformatted_code = \"print(pipeline_knn_cv.best_params_)\\n\\ny_pred = pipeline_knn_cv.predict(X_test)\\n\\nprint(confusion_matrix(y_test, y_pred))\\nprint(classification_report(y_test, y_pred))\\n\\nconfusion_mat = confusion_matrix(y_test, y_pred)\\nconfusion_df = pd.DataFrame(\\n    confusion_mat,\\n    index=[\\\"actual_Customer_Leaving\\\", \\\"actual_Customer_Stay\\\"],\\n    columns=[\\\"pred_Customer_Leaving\\\", \\\"pred_Customer_Stay\\\"],\\n)\\nprint(f\\\"percentage matrix{confusion_mat/(len(y_pred))}\\\")\\ndisplay(confusion_df)\";\n",
       "                var nbb_formatted_code = \"print(pipeline_knn_cv.best_params_)\\n\\ny_pred = pipeline_knn_cv.predict(X_test)\\n\\nprint(confusion_matrix(y_test, y_pred))\\nprint(classification_report(y_test, y_pred))\\n\\nconfusion_mat = confusion_matrix(y_test, y_pred)\\nconfusion_df = pd.DataFrame(\\n    confusion_mat,\\n    index=[\\\"actual_Customer_Leaving\\\", \\\"actual_Customer_Stay\\\"],\\n    columns=[\\\"pred_Customer_Leaving\\\", \\\"pred_Customer_Stay\\\"],\\n)\\nprint(f\\\"percentage matrix{confusion_mat/(len(y_pred))}\\\")\\ndisplay(confusion_df)\";\n",
       "                var nbb_cells = Jupyter.notebook.get_cells();\n",
       "                for (var i = 0; i < nbb_cells.length; ++i) {\n",
       "                    if (nbb_cells[i].input_prompt_number == nbb_cell_id) {\n",
       "                        if (nbb_cells[i].get_text() == nbb_unformatted_code) {\n",
       "                             nbb_cells[i].set_text(nbb_formatted_code);\n",
       "                        }\n",
       "                        break;\n",
       "                    }\n",
       "                }\n",
       "            }, 500);\n",
       "            "
      ],
      "text/plain": [
       "<IPython.core.display.Javascript object>"
      ]
     },
     "metadata": {},
     "output_type": "display_data"
    }
   ],
   "source": [
    "print(pipeline_knn_cv.best_params_)\n",
    "\n",
    "y_pred = pipeline_knn_cv.predict(X_test)\n",
    "\n",
    "print(confusion_matrix(y_test, y_pred))\n",
    "print(classification_report(y_test, y_pred))\n",
    "\n",
    "confusion_mat = confusion_matrix(y_test, y_pred)\n",
    "confusion_df = pd.DataFrame(\n",
    "    confusion_mat,\n",
    "    index=[\"actual_Customer_Leaving\", \"actual_Customer_Stay\"],\n",
    "    columns=[\"pred_Customer_Leaving\", \"pred_Customer_Stay\"],\n",
    ")\n",
    "print(f\"percentage matrix{confusion_mat/(len(y_pred))}\")\n",
    "display(confusion_df)"
   ]
  },
  {
   "cell_type": "markdown",
   "metadata": {},
   "source": [
    "### KNN is more overfit and has a worse performance than our Random Forest model. "
   ]
  },
  {
   "cell_type": "markdown",
   "metadata": {},
   "source": [
    "# Logistic Regression Classifier"
   ]
  },
  {
   "cell_type": "code",
   "execution_count": 20,
   "metadata": {
    "scrolled": false
   },
   "outputs": [
    {
     "name": "stdout",
     "output_type": "stream",
     "text": [
      "Train score for Linear Regression model before gridsearch: 0.8491544253795827\n",
      "Test score for Linear Regression model before gridsearch: 0.8543928923988154\n",
      "Fitting 5 folds for each of 20 candidates, totalling 100 fits\n"
     ]
    },
    {
     "name": "stderr",
     "output_type": "stream",
     "text": [
      "[Parallel(n_jobs=-1)]: Using backend LokyBackend with 4 concurrent workers.\n",
      "[Parallel(n_jobs=-1)]: Done  42 tasks      | elapsed:    3.2s\n",
      "[Parallel(n_jobs=-1)]: Done 100 out of 100 | elapsed:    7.6s finished\n"
     ]
    },
    {
     "name": "stdout",
     "output_type": "stream",
     "text": [
      "Train score for Linear Regression model: 0.848907542278731\n",
      "Test score for Linear Regression model: 0.8548864758144127\n"
     ]
    },
    {
     "data": {
      "application/javascript": [
       "\n",
       "            setTimeout(function() {\n",
       "                var nbb_cell_id = 20;\n",
       "                var nbb_unformatted_code = \"pipeline_lg = Pipeline(\\n    [\\n        (\\\"preprocessing\\\", preprocessing),\\n        (\\\"sampling\\\", SMOTE()),\\n        (\\\"LRmodel\\\", LogisticRegression(max_iter=1000)),\\n    ]\\n)\\n\\n\\npipeline_lg.fit(X_train, y_train)\\n\\ntrain_score = pipeline_lg.score(X_train, y_train)\\ntest_score = pipeline_lg.score(X_test, y_test)\\n\\nprint(f\\\"Train score for Linear Regression model before gridsearch: {train_score}\\\")\\nprint(f\\\"Test score for Linear Regression model before gridsearch: {test_score}\\\")\\n\\n\\ngrid = {\\n    \\\"LRmodel__C\\\": [0.1, 0.25, 0.5, 0.75, 1.0],\\n    \\\"LRmodel__penalty\\\": [\\\"l1\\\", \\\"l2\\\", \\\"elasticnet\\\", \\\"none\\\"],\\n}\\n\\npipeline_lg_cv = GridSearchCV(pipeline_lg, grid, verbose=1, cv=5, n_jobs=-1)\\npipeline_lg_cv.fit(X_train, y_train)\\n\\nprint(\\n    f\\\"Train score for Linear Regression model: {pipeline_lg_cv.score(X_train, y_train)}\\\"\\n)\\nprint(f\\\"Test score for Linear Regression model: {pipeline_lg_cv.score(X_test, y_test)}\\\")\";\n",
       "                var nbb_formatted_code = \"pipeline_lg = Pipeline(\\n    [\\n        (\\\"preprocessing\\\", preprocessing),\\n        (\\\"sampling\\\", SMOTE()),\\n        (\\\"LRmodel\\\", LogisticRegression(max_iter=1000)),\\n    ]\\n)\\n\\n\\npipeline_lg.fit(X_train, y_train)\\n\\ntrain_score = pipeline_lg.score(X_train, y_train)\\ntest_score = pipeline_lg.score(X_test, y_test)\\n\\nprint(f\\\"Train score for Linear Regression model before gridsearch: {train_score}\\\")\\nprint(f\\\"Test score for Linear Regression model before gridsearch: {test_score}\\\")\\n\\n\\ngrid = {\\n    \\\"LRmodel__C\\\": [0.1, 0.25, 0.5, 0.75, 1.0],\\n    \\\"LRmodel__penalty\\\": [\\\"l1\\\", \\\"l2\\\", \\\"elasticnet\\\", \\\"none\\\"],\\n}\\n\\npipeline_lg_cv = GridSearchCV(pipeline_lg, grid, verbose=1, cv=5, n_jobs=-1)\\npipeline_lg_cv.fit(X_train, y_train)\\n\\nprint(\\n    f\\\"Train score for Linear Regression model: {pipeline_lg_cv.score(X_train, y_train)}\\\"\\n)\\nprint(f\\\"Test score for Linear Regression model: {pipeline_lg_cv.score(X_test, y_test)}\\\")\";\n",
       "                var nbb_cells = Jupyter.notebook.get_cells();\n",
       "                for (var i = 0; i < nbb_cells.length; ++i) {\n",
       "                    if (nbb_cells[i].input_prompt_number == nbb_cell_id) {\n",
       "                        if (nbb_cells[i].get_text() == nbb_unformatted_code) {\n",
       "                             nbb_cells[i].set_text(nbb_formatted_code);\n",
       "                        }\n",
       "                        break;\n",
       "                    }\n",
       "                }\n",
       "            }, 500);\n",
       "            "
      ],
      "text/plain": [
       "<IPython.core.display.Javascript object>"
      ]
     },
     "metadata": {},
     "output_type": "display_data"
    }
   ],
   "source": [
    "pipeline_lg = Pipeline(\n",
    "    [\n",
    "        (\"preprocessing\", preprocessing),\n",
    "        (\"sampling\", SMOTE()),\n",
    "        (\"LRmodel\", LogisticRegression(max_iter=1000)),\n",
    "    ]\n",
    ")\n",
    "\n",
    "\n",
    "pipeline_lg.fit(X_train, y_train)\n",
    "\n",
    "train_score = pipeline_lg.score(X_train, y_train)\n",
    "test_score = pipeline_lg.score(X_test, y_test)\n",
    "\n",
    "print(f\"Train score for Linear Regression model before gridsearch: {train_score}\")\n",
    "print(f\"Test score for Linear Regression model before gridsearch: {test_score}\")\n",
    "\n",
    "\n",
    "grid = {\n",
    "    \"LRmodel__C\": [0.1, 0.25, 0.5, 0.75, 1.0],\n",
    "    \"LRmodel__penalty\": [\"l1\", \"l2\", \"elasticnet\", \"none\"],\n",
    "}\n",
    "\n",
    "pipeline_lg_cv = GridSearchCV(pipeline_lg, grid, verbose=1, cv=5, n_jobs=-1)\n",
    "pipeline_lg_cv.fit(X_train, y_train)\n",
    "\n",
    "print(\n",
    "    f\"Train score for Linear Regression model: {pipeline_lg_cv.score(X_train, y_train)}\"\n",
    ")\n",
    "print(f\"Test score for Linear Regression model: {pipeline_lg_cv.score(X_test, y_test)}\")"
   ]
  },
  {
   "cell_type": "code",
   "execution_count": 36,
   "metadata": {},
   "outputs": [
    {
     "name": "stdout",
     "output_type": "stream",
     "text": [
      "{'LRmodel__C': 0.5, 'LRmodel__penalty': 'l2'}\n",
      "[[ 270   55]\n",
      " [ 239 1462]]\n",
      "              precision    recall  f1-score   support\n",
      "\n",
      "           0       0.53      0.83      0.65       325\n",
      "           1       0.96      0.86      0.91      1701\n",
      "\n",
      "    accuracy                           0.85      2026\n",
      "   macro avg       0.75      0.85      0.78      2026\n",
      "weighted avg       0.89      0.85      0.87      2026\n",
      "\n",
      "percentage matrix[[0.13326752 0.02714709]\n",
      " [0.11796644 0.72161895]]\n"
     ]
    },
    {
     "data": {
      "text/html": [
       "<div>\n",
       "<style scoped>\n",
       "    .dataframe tbody tr th:only-of-type {\n",
       "        vertical-align: middle;\n",
       "    }\n",
       "\n",
       "    .dataframe tbody tr th {\n",
       "        vertical-align: top;\n",
       "    }\n",
       "\n",
       "    .dataframe thead th {\n",
       "        text-align: right;\n",
       "    }\n",
       "</style>\n",
       "<table border=\"1\" class=\"dataframe\">\n",
       "  <thead>\n",
       "    <tr style=\"text-align: right;\">\n",
       "      <th></th>\n",
       "      <th>pred_Customer_Leaving</th>\n",
       "      <th>pred_Customer_Stay</th>\n",
       "    </tr>\n",
       "  </thead>\n",
       "  <tbody>\n",
       "    <tr>\n",
       "      <th>actual_Customer_Leaving</th>\n",
       "      <td>270</td>\n",
       "      <td>55</td>\n",
       "    </tr>\n",
       "    <tr>\n",
       "      <th>actual_Customer_Stay</th>\n",
       "      <td>239</td>\n",
       "      <td>1462</td>\n",
       "    </tr>\n",
       "  </tbody>\n",
       "</table>\n",
       "</div>"
      ],
      "text/plain": [
       "                         pred_Customer_Leaving  pred_Customer_Stay\n",
       "actual_Customer_Leaving                    270                  55\n",
       "actual_Customer_Stay                       239                1462"
      ]
     },
     "metadata": {},
     "output_type": "display_data"
    },
    {
     "data": {
      "application/javascript": [
       "\n",
       "            setTimeout(function() {\n",
       "                var nbb_cell_id = 36;\n",
       "                var nbb_unformatted_code = \"print(pipeline_lg_cv.best_params_)\\n\\ny_pred = pipeline_lg_cv.predict(X_test)\\n\\nprint(confusion_matrix(y_test, y_pred))\\nprint(classification_report(y_test, y_pred))\\n\\nconfusion_mat = confusion_matrix(y_test, y_pred)\\nconfusion_df = pd.DataFrame(\\n    confusion_mat,\\n    index=[\\\"actual_Customer_Leaving\\\", \\\"actual_Customer_Stay\\\"],\\n    columns=[\\\"pred_Customer_Leaving\\\", \\\"pred_Customer_Stay\\\"],\\n)\\n\\nprint(f\\\"percentage matrix{confusion_mat/(len(y_pred))}\\\")\\ndisplay(confusion_df)\";\n",
       "                var nbb_formatted_code = \"print(pipeline_lg_cv.best_params_)\\n\\ny_pred = pipeline_lg_cv.predict(X_test)\\n\\nprint(confusion_matrix(y_test, y_pred))\\nprint(classification_report(y_test, y_pred))\\n\\nconfusion_mat = confusion_matrix(y_test, y_pred)\\nconfusion_df = pd.DataFrame(\\n    confusion_mat,\\n    index=[\\\"actual_Customer_Leaving\\\", \\\"actual_Customer_Stay\\\"],\\n    columns=[\\\"pred_Customer_Leaving\\\", \\\"pred_Customer_Stay\\\"],\\n)\\n\\nprint(f\\\"percentage matrix{confusion_mat/(len(y_pred))}\\\")\\ndisplay(confusion_df)\";\n",
       "                var nbb_cells = Jupyter.notebook.get_cells();\n",
       "                for (var i = 0; i < nbb_cells.length; ++i) {\n",
       "                    if (nbb_cells[i].input_prompt_number == nbb_cell_id) {\n",
       "                        if (nbb_cells[i].get_text() == nbb_unformatted_code) {\n",
       "                             nbb_cells[i].set_text(nbb_formatted_code);\n",
       "                        }\n",
       "                        break;\n",
       "                    }\n",
       "                }\n",
       "            }, 500);\n",
       "            "
      ],
      "text/plain": [
       "<IPython.core.display.Javascript object>"
      ]
     },
     "metadata": {},
     "output_type": "display_data"
    }
   ],
   "source": [
    "print(pipeline_lg_cv.best_params_)\n",
    "\n",
    "y_pred = pipeline_lg_cv.predict(X_test)\n",
    "\n",
    "print(confusion_matrix(y_test, y_pred))\n",
    "print(classification_report(y_test, y_pred))\n",
    "\n",
    "confusion_mat = confusion_matrix(y_test, y_pred)\n",
    "confusion_df = pd.DataFrame(\n",
    "    confusion_mat,\n",
    "    index=[\"actual_Customer_Leaving\", \"actual_Customer_Stay\"],\n",
    "    columns=[\"pred_Customer_Leaving\", \"pred_Customer_Stay\"],\n",
    ")\n",
    "\n",
    "print(f\"percentage matrix{confusion_mat/(len(y_pred))}\")\n",
    "display(confusion_df)"
   ]
  },
  {
   "cell_type": "markdown",
   "metadata": {},
   "source": [
    "### LG has a worse perfomance tha our Random Forest model and KNN model. "
   ]
  },
  {
   "cell_type": "code",
   "execution_count": 21,
   "metadata": {},
   "outputs": [
    {
     "name": "stderr",
     "output_type": "stream",
     "text": [
      "c:\\users\\matth\\appdata\\local\\programs\\python\\python37\\lib\\site-packages\\xgboost\\sklearn.py:888: UserWarning: The use of label encoder in XGBClassifier is deprecated and will be removed in a future release. To remove this warning, do the following: 1) Pass option use_label_encoder=False when constructing XGBClassifier object; and 2) Encode your labels (y) as integers starting with 0, i.e. 0, 1, 2, ..., [num_class - 1].\n",
      "  warnings.warn(label_encoder_deprecation_msg, UserWarning)\n"
     ]
    },
    {
     "name": "stdout",
     "output_type": "stream",
     "text": [
      "[20:28:06] WARNING: C:/Users/Administrator/workspace/xgboost-win64_release_1.3.0/src/learner.cc:1061: Starting in XGBoost 1.3.0, the default evaluation metric used with the objective 'binary:logistic' was changed from 'error' to 'logloss'. Explicitly set eval_metric if you'd like to restore the old behavior.\n",
      "Train score: 0.7421306011603506\n",
      "Test score: 0.7403751233958539\n",
      "Fitting 5 folds for each of 27 candidates, totalling 135 fits\n"
     ]
    },
    {
     "name": "stderr",
     "output_type": "stream",
     "text": [
      "[Parallel(n_jobs=-1)]: Using backend LokyBackend with 4 concurrent workers.\n",
      "[Parallel(n_jobs=-1)]: Done  42 tasks      | elapsed:   49.6s\n",
      "[Parallel(n_jobs=-1)]: Done 135 out of 135 | elapsed:  3.4min finished\n",
      "c:\\users\\matth\\appdata\\local\\programs\\python\\python37\\lib\\site-packages\\xgboost\\sklearn.py:888: UserWarning: The use of label encoder in XGBClassifier is deprecated and will be removed in a future release. To remove this warning, do the following: 1) Pass option use_label_encoder=False when constructing XGBClassifier object; and 2) Encode your labels (y) as integers starting with 0, i.e. 0, 1, 2, ..., [num_class - 1].\n",
      "  warnings.warn(label_encoder_deprecation_msg, UserWarning)\n"
     ]
    },
    {
     "name": "stdout",
     "output_type": "stream",
     "text": [
      "[20:31:33] WARNING: C:/Users/Administrator/workspace/xgboost-win64_release_1.3.0/src/learner.cc:1061: Starting in XGBoost 1.3.0, the default evaluation metric used with the objective 'binary:logistic' was changed from 'error' to 'logloss'. Explicitly set eval_metric if you'd like to restore the old behavior.\n"
     ]
    },
    {
     "data": {
      "text/plain": [
       "GridSearchCV(cv=5,\n",
       "             estimator=Pipeline(steps=[('preprocessing',\n",
       "                                        ColumnTransformer(remainder='passthrough',\n",
       "                                                          transformers=[('scale',\n",
       "                                                                         StandardScaler(),\n",
       "                                                                         ['Customer_Age',\n",
       "                                                                          'Dependent_count',\n",
       "                                                                          'Months_on_book',\n",
       "                                                                          'Total_Relationship_Count',\n",
       "                                                                          'Months_Inactive_12_mon',\n",
       "                                                                          'Contacts_Count_12_mon',\n",
       "                                                                          'Credit_Limit',\n",
       "                                                                          'Total_Revolving_Bal',\n",
       "                                                                          'Avg_Open_To_Buy',\n",
       "                                                                          'Total_Amt_Chng_Q4_Q1',\n",
       "                                                                          'T...\n",
       "                                                      missing=nan,\n",
       "                                                      monotone_constraints='()',\n",
       "                                                      n_estimators=100,\n",
       "                                                      n_jobs=4,\n",
       "                                                      num_parallel_tree=1,\n",
       "                                                      random_state=0,\n",
       "                                                      reg_alpha=0, reg_lambda=1,\n",
       "                                                      scale_pos_weight=1,\n",
       "                                                      subsample=1,\n",
       "                                                      tree_method='exact',\n",
       "                                                      validate_parameters=1,\n",
       "                                                      verbosity=None))]),\n",
       "             n_jobs=-1,\n",
       "             param_grid={'model__colsample_bytree': [0.5, 0.75, 1.0],\n",
       "                         'model__max_depth': [7, 10, 12],\n",
       "                         'model__subsample': [0.5, 0.75, 1.0]},\n",
       "             verbose=1)"
      ]
     },
     "execution_count": 21,
     "metadata": {},
     "output_type": "execute_result"
    },
    {
     "data": {
      "application/javascript": [
       "\n",
       "            setTimeout(function() {\n",
       "                var nbb_cell_id = 21;\n",
       "                var nbb_unformatted_code = \"n_estimators = 100\\nlearning_rate = 2 / n_estimators\\n\\npipeline = Pipeline(\\n    [\\n        (\\\"preprocessing\\\", preprocessing),\\n        (\\\"sampling\\\", SMOTE()),\\n        (\\n            \\\"model\\\",\\n            XGBClassifier(n_estimators=n_estimators, learning_rate=learning_rate),\\n        ),\\n    ]\\n)\\n\\npipeline.fit(X_train, y_train)\\n\\ntrain_score = pipeline.score(X_train, y_train)\\ntest_score = pipeline.score(X_test, y_test)\\n\\nprint(f\\\"Train score: {train_score}\\\")\\nprint(f\\\"Test score: {test_score}\\\")\\n\\ngrid = {\\n    \\\"model__subsample\\\": [0.5, 0.75, 1.0],\\n    \\\"model__colsample_bytree\\\": [0.5, 0.75, 1.0],\\n    \\\"model__max_depth\\\": [7, 10, 12],\\n}\\n\\npipeline_cv = GridSearchCV(pipeline, grid, verbose=1, cv=5, n_jobs=-1)\\npipeline_cv.fit(X_train, y_train)\";\n",
       "                var nbb_formatted_code = \"n_estimators = 100\\nlearning_rate = 2 / n_estimators\\n\\npipeline = Pipeline(\\n    [\\n        (\\\"preprocessing\\\", preprocessing),\\n        (\\\"sampling\\\", SMOTE()),\\n        (\\n            \\\"model\\\",\\n            XGBClassifier(n_estimators=n_estimators, learning_rate=learning_rate),\\n        ),\\n    ]\\n)\\n\\npipeline.fit(X_train, y_train)\\n\\ntrain_score = pipeline.score(X_train, y_train)\\ntest_score = pipeline.score(X_test, y_test)\\n\\nprint(f\\\"Train score: {train_score}\\\")\\nprint(f\\\"Test score: {test_score}\\\")\\n\\ngrid = {\\n    \\\"model__subsample\\\": [0.5, 0.75, 1.0],\\n    \\\"model__colsample_bytree\\\": [0.5, 0.75, 1.0],\\n    \\\"model__max_depth\\\": [7, 10, 12],\\n}\\n\\npipeline_cv = GridSearchCV(pipeline, grid, verbose=1, cv=5, n_jobs=-1)\\npipeline_cv.fit(X_train, y_train)\";\n",
       "                var nbb_cells = Jupyter.notebook.get_cells();\n",
       "                for (var i = 0; i < nbb_cells.length; ++i) {\n",
       "                    if (nbb_cells[i].input_prompt_number == nbb_cell_id) {\n",
       "                        if (nbb_cells[i].get_text() == nbb_unformatted_code) {\n",
       "                             nbb_cells[i].set_text(nbb_formatted_code);\n",
       "                        }\n",
       "                        break;\n",
       "                    }\n",
       "                }\n",
       "            }, 500);\n",
       "            "
      ],
      "text/plain": [
       "<IPython.core.display.Javascript object>"
      ]
     },
     "metadata": {},
     "output_type": "display_data"
    }
   ],
   "source": [
    "n_estimators = 100\n",
    "learning_rate = 2 / n_estimators\n",
    "\n",
    "pipeline = Pipeline(\n",
    "    [\n",
    "        (\"preprocessing\", preprocessing),\n",
    "        (\"sampling\", SMOTE()),\n",
    "        (\n",
    "            \"model\",\n",
    "            XGBClassifier(n_estimators=n_estimators, learning_rate=learning_rate),\n",
    "        ),\n",
    "    ]\n",
    ")\n",
    "\n",
    "pipeline.fit(X_train, y_train)\n",
    "\n",
    "train_score = pipeline.score(X_train, y_train)\n",
    "test_score = pipeline.score(X_test, y_test)\n",
    "\n",
    "print(f\"Train score: {train_score}\")\n",
    "print(f\"Test score: {test_score}\")\n",
    "\n",
    "grid = {\n",
    "    \"model__subsample\": [0.5, 0.75, 1.0],\n",
    "    \"model__colsample_bytree\": [0.5, 0.75, 1.0],\n",
    "    \"model__max_depth\": [7, 10, 12],\n",
    "}\n",
    "\n",
    "pipeline_cv = GridSearchCV(pipeline, grid, verbose=1, cv=5, n_jobs=-1)\n",
    "pipeline_cv.fit(X_train, y_train)"
   ]
  },
  {
   "cell_type": "code",
   "execution_count": 22,
   "metadata": {},
   "outputs": [
    {
     "name": "stdout",
     "output_type": "stream",
     "text": [
      "Train score: 0.848907542278731\n",
      "Test score: 0.8104639684106614\n"
     ]
    },
    {
     "data": {
      "application/javascript": [
       "\n",
       "            setTimeout(function() {\n",
       "                var nbb_cell_id = 22;\n",
       "                var nbb_unformatted_code = \"print(f\\\"Train score: {pipeline_cv.score(X_train, y_train)}\\\")\\nprint(f\\\"Test score: {pipeline_cv.score(X_test, y_test)}\\\")\";\n",
       "                var nbb_formatted_code = \"print(f\\\"Train score: {pipeline_cv.score(X_train, y_train)}\\\")\\nprint(f\\\"Test score: {pipeline_cv.score(X_test, y_test)}\\\")\";\n",
       "                var nbb_cells = Jupyter.notebook.get_cells();\n",
       "                for (var i = 0; i < nbb_cells.length; ++i) {\n",
       "                    if (nbb_cells[i].input_prompt_number == nbb_cell_id) {\n",
       "                        if (nbb_cells[i].get_text() == nbb_unformatted_code) {\n",
       "                             nbb_cells[i].set_text(nbb_formatted_code);\n",
       "                        }\n",
       "                        break;\n",
       "                    }\n",
       "                }\n",
       "            }, 500);\n",
       "            "
      ],
      "text/plain": [
       "<IPython.core.display.Javascript object>"
      ]
     },
     "metadata": {},
     "output_type": "display_data"
    }
   ],
   "source": [
    "print(f\"Train score: {pipeline_cv.score(X_train, y_train)}\")\n",
    "print(f\"Test score: {pipeline_cv.score(X_test, y_test)}\")"
   ]
  },
  {
   "cell_type": "code",
   "execution_count": 37,
   "metadata": {},
   "outputs": [
    {
     "name": "stdout",
     "output_type": "stream",
     "text": [
      "[[ 221  104]\n",
      " [ 280 1421]]\n",
      "              precision    recall  f1-score   support\n",
      "\n",
      "           0       0.44      0.68      0.54       325\n",
      "           1       0.93      0.84      0.88      1701\n",
      "\n",
      "    accuracy                           0.81      2026\n",
      "   macro avg       0.69      0.76      0.71      2026\n",
      "weighted avg       0.85      0.81      0.83      2026\n",
      "\n",
      "percentage matrix[[0.10908193 0.05133268]\n",
      " [0.13820336 0.70138203]]\n"
     ]
    },
    {
     "data": {
      "text/html": [
       "<div>\n",
       "<style scoped>\n",
       "    .dataframe tbody tr th:only-of-type {\n",
       "        vertical-align: middle;\n",
       "    }\n",
       "\n",
       "    .dataframe tbody tr th {\n",
       "        vertical-align: top;\n",
       "    }\n",
       "\n",
       "    .dataframe thead th {\n",
       "        text-align: right;\n",
       "    }\n",
       "</style>\n",
       "<table border=\"1\" class=\"dataframe\">\n",
       "  <thead>\n",
       "    <tr style=\"text-align: right;\">\n",
       "      <th></th>\n",
       "      <th>pred_Customer_Leaving</th>\n",
       "      <th>pred_Customer_Stay</th>\n",
       "    </tr>\n",
       "  </thead>\n",
       "  <tbody>\n",
       "    <tr>\n",
       "      <th>actual_Customer_Leaving</th>\n",
       "      <td>221</td>\n",
       "      <td>104</td>\n",
       "    </tr>\n",
       "    <tr>\n",
       "      <th>actual_Customer_Stay</th>\n",
       "      <td>280</td>\n",
       "      <td>1421</td>\n",
       "    </tr>\n",
       "  </tbody>\n",
       "</table>\n",
       "</div>"
      ],
      "text/plain": [
       "                         pred_Customer_Leaving  pred_Customer_Stay\n",
       "actual_Customer_Leaving                    221                 104\n",
       "actual_Customer_Stay                       280                1421"
      ]
     },
     "metadata": {},
     "output_type": "display_data"
    },
    {
     "data": {
      "application/javascript": [
       "\n",
       "            setTimeout(function() {\n",
       "                var nbb_cell_id = 37;\n",
       "                var nbb_unformatted_code = \"y_pred = pipeline_cv.predict(X_test)\\n\\nprint(confusion_matrix(y_test, y_pred))\\nprint(classification_report(y_test, y_pred))\\n\\nconfusion_mat = confusion_matrix(y_test, y_pred)\\nconfusion_df = pd.DataFrame(\\n    confusion_mat,\\n    index=[\\\"actual_Customer_Leaving\\\", \\\"actual_Customer_Stay\\\"],\\n    columns=[\\\"pred_Customer_Leaving\\\", \\\"pred_Customer_Stay\\\"],\\n)\\nprint(f\\\"percentage matrix{confusion_mat/(len(y_pred))}\\\")\\ndisplay(confusion_df)\";\n",
       "                var nbb_formatted_code = \"y_pred = pipeline_cv.predict(X_test)\\n\\nprint(confusion_matrix(y_test, y_pred))\\nprint(classification_report(y_test, y_pred))\\n\\nconfusion_mat = confusion_matrix(y_test, y_pred)\\nconfusion_df = pd.DataFrame(\\n    confusion_mat,\\n    index=[\\\"actual_Customer_Leaving\\\", \\\"actual_Customer_Stay\\\"],\\n    columns=[\\\"pred_Customer_Leaving\\\", \\\"pred_Customer_Stay\\\"],\\n)\\nprint(f\\\"percentage matrix{confusion_mat/(len(y_pred))}\\\")\\ndisplay(confusion_df)\";\n",
       "                var nbb_cells = Jupyter.notebook.get_cells();\n",
       "                for (var i = 0; i < nbb_cells.length; ++i) {\n",
       "                    if (nbb_cells[i].input_prompt_number == nbb_cell_id) {\n",
       "                        if (nbb_cells[i].get_text() == nbb_unformatted_code) {\n",
       "                             nbb_cells[i].set_text(nbb_formatted_code);\n",
       "                        }\n",
       "                        break;\n",
       "                    }\n",
       "                }\n",
       "            }, 500);\n",
       "            "
      ],
      "text/plain": [
       "<IPython.core.display.Javascript object>"
      ]
     },
     "metadata": {},
     "output_type": "display_data"
    }
   ],
   "source": [
    "y_pred = pipeline_cv.predict(X_test)\n",
    "\n",
    "print(confusion_matrix(y_test, y_pred))\n",
    "print(classification_report(y_test, y_pred))\n",
    "\n",
    "confusion_mat = confusion_matrix(y_test, y_pred)\n",
    "confusion_df = pd.DataFrame(\n",
    "    confusion_mat,\n",
    "    index=[\"actual_Customer_Leaving\", \"actual_Customer_Stay\"],\n",
    "    columns=[\"pred_Customer_Leaving\", \"pred_Customer_Stay\"],\n",
    ")\n",
    "print(f\"percentage matrix{confusion_mat/(len(y_pred))}\")\n",
    "display(confusion_df)"
   ]
  },
  {
   "cell_type": "markdown",
   "metadata": {},
   "source": [
    "### XGB had the worst perfomance of all. "
   ]
  },
  {
   "cell_type": "code",
   "execution_count": null,
   "metadata": {},
   "outputs": [],
   "source": []
  }
 ],
 "metadata": {
  "kernelspec": {
   "display_name": "Python 3",
   "language": "python",
   "name": "python3"
  },
  "language_info": {
   "codemirror_mode": {
    "name": "ipython",
    "version": 3
   },
   "file_extension": ".py",
   "mimetype": "text/x-python",
   "name": "python",
   "nbconvert_exporter": "python",
   "pygments_lexer": "ipython3",
   "version": "3.7.7"
  }
 },
 "nbformat": 4,
 "nbformat_minor": 4
}
